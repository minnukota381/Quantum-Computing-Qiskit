{
 "cells": [
  {
   "cell_type": "code",
   "execution_count": 14,
   "metadata": {},
   "outputs": [],
   "source": [
    "from qiskit import *\n",
    "from qiskit.visualization import plot_bloch_multivector, visualize_transition, plot_histogram\n",
    "from qiskit import QuantumCircuit, transpile\n",
    "from qiskit_aer import AerSimulator\n",
    "from qiskit.visualization import plot_histogram\n",
    "from qiskit.quantum_info import Operator\n",
    "from sympy import Matrix, init_printing\n",
    "from IPython.display import display, Latex\n",
    "import numpy as np"
   ]
  },
  {
   "cell_type": "code",
   "execution_count": 15,
   "metadata": {},
   "outputs": [],
   "source": [
    "# Create a quantum circuit with 2 qubits\n",
    "# The default initial state of qubits will be |0> or [1,0]\n",
    "qc = QuantumCircuit(2)"
   ]
  },
  {
   "cell_type": "code",
   "execution_count": 16,
   "metadata": {},
   "outputs": [
    {
     "data": {
      "text/plain": [
       "<qiskit.circuit.instructionset.InstructionSet at 0x25eaf34bd60>"
      ]
     },
     "execution_count": 16,
     "metadata": {},
     "output_type": "execute_result"
    }
   ],
   "source": [
    "#Applying the hadarmad gate to target\n",
    "qc.sdg(1)\n",
    "#apply the cx gate to both qubits\n",
    "qc.cx(0,1)\n",
    "#Applying the hadarmad gate to target\n",
    "qc.s(1)"
   ]
  },
  {
   "cell_type": "code",
   "execution_count": 17,
   "metadata": {},
   "outputs": [
    {
     "data": {
      "image/png": "[encoded data removed]",
      "text/plain": [
       "<Figure size 370.906x200.667 with 1 Axes>"
      ]
     },
     "execution_count": 17,
     "metadata": {},
     "output_type": "execute_result"
    }
   ],
   "source": [
    "#Draw the circuit\n",
    "qc.draw('mpl')"
   ]
  },
  {
   "cell_type": "code",
   "execution_count": 18,
   "metadata": {},
   "outputs": [
    {
     "data": {
      "text/latex": [
       "$\\text{UnitaryMatrix} = \\begin{bmatrix}\n",
       "1.00+0.00j & 0.00+0.00j & 0.00+0.00j & 0.00+0.00j \\\\\n",
       "0.00+0.00j & 0.00+0.00j & 0.00+0.00j & 0.00-1.00j \\\\\n",
       "0.00+0.00j & 0.00+0.00j & 1.00+0.00j & 0.00+0.00j \\\\\n",
       "0.00+0.00j & 0.00+1.00j & 0.00+0.00j & 0.00+0.00j \\\\\n",
       "\\end{bmatrix}$"
      ],
      "text/plain": [
       "<IPython.core.display.Latex object>"
      ]
     },
     "metadata": {},
     "output_type": "display_data"
    },
    {
     "name": "stdout",
     "output_type": "stream",
     "text": [
      "{'00': 1024}\n"
     ]
    },
    {
     "data": {
      "image/png": "[encoded data removed]",
      "text/plain": [
       "<Figure size 640x480 with 1 Axes>"
      ]
     },
     "execution_count": 18,
     "metadata": {},
     "output_type": "execute_result"
    }
   ],
   "source": [
    "# Get the unitary matrix\n",
    "unitary = Operator(qc).data\n",
    "\n",
    "# Convert the unitary matrix to a LaTeX string\n",
    "matrix_latex = \"\\\\begin{bmatrix}\\n\"\n",
    "for row in unitary:\n",
    "    matrix_latex += \" & \".join([f\"{elem:.2f}\" for elem in row]) + \" \\\\\\\\\\n\"\n",
    "matrix_latex += \"\\\\end{bmatrix}\"\n",
    "\n",
    "# Display the unitary matrix in LaTeX format\n",
    "display(Latex(f\"$\\\\text{{UnitaryMatrix}} = {matrix_latex}$\"))\n",
    "\n",
    "# Add measurements if you want to run the circuit\n",
    "qc.measure_all()\n",
    "\n",
    "# Get the backend for the circuit\n",
    "backend = AerSimulator()\n",
    "\n",
    "# Transpile and run the circuit\n",
    "qc_compiled = transpile(qc, backend)\n",
    "job_sim = backend.run(qc_compiled, shots=1024)\n",
    "result_sim = job_sim.result()\n",
    "\n",
    "# Get and display the counts\n",
    "counts = result_sim.get_counts(qc_compiled)\n",
    "print(counts)\n",
    "plot_histogram(counts)"
   ]
  },
  {
   "cell_type": "code",
   "execution_count": 8,
   "metadata": {},
   "outputs": [],
   "source": [
    "#Get the backend for the circuit (simulator or realtime system)\n",
    "backend = Aer.get_backend('statevector_simulator')"
   ]
  },
  {
   "cell_type": "code",
   "execution_count": 9,
   "metadata": {},
   "outputs": [],
   "source": [
    "#execute the circuit using the backend\n",
    "out = execute(qc,backend).result().get_statevector()"
   ]
  },
  {
   "cell_type": "code",
   "execution_count": 10,
   "metadata": {
    "scrolled": true
   },
   "outputs": [
    {
     "data": {
      "text/latex": [
       "$\\displaystyle \n",
       "\\text{Statevector} = \\begin{bmatrix}\n",
       "1 \\\\\n",
       "0 \\\\\n",
       "0 \\\\\n",
       "0\n",
       "\\end{bmatrix}\n",
       "$"
      ],
      "text/plain": [
       "<IPython.core.display.Math object>"
      ]
     },
     "metadata": {},
     "output_type": "display_data"
    }
   ],
   "source": [
    "#import qiskit_textbook and display the statevector\n",
    "#from qiskit_textbook.tools import array_to_latex\n",
    "array_to_latex(out, pretext = \"\\\\text{Statevector} = \")"
   ]
  },
  {
   "cell_type": "code",
   "execution_count": 11,
   "metadata": {},
   "outputs": [
    {
     "data": {
      "image/png": "[encoded data removed]",
      "text/plain": [
       "<Figure size 504x360 with 1 Axes>"
      ]
     },
     "execution_count": 11,
     "metadata": {},
     "output_type": "execute_result"
    }
   ],
   "source": [
    "#execute the circuit and get the plain result\n",
    "out = execute(qc,backend).result()\n",
    "\n",
    "counts = out.get_counts()\n",
    "\n",
    "plot_histogram(counts)"
   ]
  }
 ],
 "metadata": {
  "kernelspec": {
   "display_name": "Python 3 (ipykernel)",
   "language": "python",
   "name": "python3"
  },
  "language_info": {
   "codemirror_mode": {
    "name": "ipython",
    "version": 3
   },
   "file_extension": ".py",
   "mimetype": "text/x-python",
   "name": "python",
   "nbconvert_exporter": "python",
   "pygments_lexer": "ipython3",
   "version": "3.12.4"
  }
 },
 "nbformat": 4,
 "nbformat_minor": 4
}
