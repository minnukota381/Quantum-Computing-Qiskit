{
 "cells": [
  {
   "cell_type": "code",
   "execution_count": 1,
   "id": "a12686d8-3cee-4461-bf92-f51664931821",
   "metadata": {},
   "outputs": [
    {
     "name": "stdout",
     "output_type": "stream",
     "text": [
      "Vectors :\n",
      "a =  [2 6]\n",
      "\n",
      "b =  [ 3 10]\n",
      "\n",
      "Inner product of vectors a and b =\n",
      "66\n",
      "---------------------------------------\n",
      "\n",
      "Matrices :\n",
      "x = [[2 3 4]\n",
      " [3 2 9]]\n",
      "\n",
      "y = [[ 1  5  0]\n",
      " [ 5 10  3]]\n",
      "\n",
      "Inner product of matrices x and y =\n",
      "[[17 52]\n",
      " [13 62]]\n"
     ]
    }
   ],
   "source": [
    "import numpy as np\n",
    "\n",
    "a = np.array([2, 6])\n",
    "b = np.array([3, 10])\n",
    "print(\"Vectors :\")\n",
    "print(\"a = \", a)\n",
    "print(\"\\nb = \", b)\n",
    "\n",
    "print(\"\\nInner product of vectors a and b =\")\n",
    "print(np.inner(a, b))\n",
    "\n",
    "print(\"---------------------------------------\")\n",
    "\n",
    "x = np.array([[2, 3, 4], [3, 2, 9]])\n",
    "y = np.array([[1, 5, 0], [5, 10, 3]])\n",
    "print(\"\\nMatrices :\")\n",
    "print(\"x =\", x)\n",
    "print(\"\\ny =\", y)\n",
    "\n",
    "print(\"\\nInner product of matrices x and y =\")\n",
    "print(np.inner(x, y))\n"
   ]
  }
 ],
 "metadata": {
  "kernelspec": {
   "display_name": "Python 3 (ipykernel)",
   "language": "python",
   "name": "python3"
  },
  "language_info": {
   "codemirror_mode": {
    "name": "ipython",
    "version": 3
   },
   "file_extension": ".py",
   "mimetype": "text/x-python",
   "name": "python",
   "nbconvert_exporter": "python",
   "pygments_lexer": "ipython3",
   "version": "3.12.4"
  }
 },
 "nbformat": 4,
 "nbformat_minor": 5
}
