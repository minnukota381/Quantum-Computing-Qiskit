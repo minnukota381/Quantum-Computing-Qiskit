{
 "cells": [
  {
   "cell_type": "markdown",
   "id": "f61fba88",
   "metadata": {},
   "source": [
    "# TENSOR PRODUCT"
   ]
  },
  {
   "cell_type": "markdown",
   "id": "86a24cc7",
   "metadata": {},
   "source": [
    "### |00>"
   ]
  },
  {
   "cell_type": "code",
   "execution_count": 8,
   "id": "81a965a9",
   "metadata": {},
   "outputs": [
    {
     "data": {
      "text/latex": [
       "$\\displaystyle \\left[\\begin{matrix}1\\\\0\\\\0\\\\0\\end{matrix}\\right]$"
      ],
      "text/plain": [
       "Matrix([\n",
       "[1],\n",
       "[0],\n",
       "[0],\n",
       "[0]])"
      ]
     },
     "execution_count": 8,
     "metadata": {},
     "output_type": "execute_result"
    }
   ],
   "source": [
    "from sympy import Matrix\n",
    "from sympy.physics.quantum import TensorProduct\n",
    "\n",
    "ket0 = Matrix([1,0])\n",
    "ket0 = Matrix([1,0])\n",
    "TensorProduct(ket0, ket0)\n"
   ]
  },
  {
   "cell_type": "markdown",
   "id": "69d2fcfd",
   "metadata": {},
   "source": [
    "### |01>"
   ]
  },
  {
   "cell_type": "code",
   "execution_count": 9,
   "id": "19db5bb0",
   "metadata": {},
   "outputs": [
    {
     "data": {
      "text/latex": [
       "$\\displaystyle \\left[\\begin{matrix}0\\\\1\\\\0\\\\0\\end{matrix}\\right]$"
      ],
      "text/plain": [
       "Matrix([\n",
       "[0],\n",
       "[1],\n",
       "[0],\n",
       "[0]])"
      ]
     },
     "execution_count": 9,
     "metadata": {},
     "output_type": "execute_result"
    }
   ],
   "source": [
    "ket0 = Matrix([1,0])\n",
    "ket1 = Matrix([0,1])\n",
    "TensorProduct(ket0, ket1)\n"
   ]
  },
  {
   "cell_type": "markdown",
   "id": "cccf8900",
   "metadata": {},
   "source": [
    "### |10>"
   ]
  },
  {
   "cell_type": "code",
   "execution_count": 10,
   "id": "0cad379a",
   "metadata": {},
   "outputs": [
    {
     "data": {
      "text/latex": [
       "$\\displaystyle \\left[\\begin{matrix}0\\\\0\\\\1\\\\0\\end{matrix}\\right]$"
      ],
      "text/plain": [
       "Matrix([\n",
       "[0],\n",
       "[0],\n",
       "[1],\n",
       "[0]])"
      ]
     },
     "execution_count": 10,
     "metadata": {},
     "output_type": "execute_result"
    }
   ],
   "source": [
    "ket1 = Matrix([0,1])\n",
    "ket0 = Matrix([1,0])\n",
    "\n",
    "TensorProduct(ket1, ket0)\n"
   ]
  },
  {
   "cell_type": "markdown",
   "id": "5da37ce8",
   "metadata": {},
   "source": [
    "### |11>"
   ]
  },
  {
   "cell_type": "code",
   "execution_count": 11,
   "id": "9632b43b",
   "metadata": {},
   "outputs": [
    {
     "data": {
      "text/latex": [
       "$\\displaystyle \\left[\\begin{matrix}0\\\\0\\\\0\\\\1\\end{matrix}\\right]$"
      ],
      "text/plain": [
       "Matrix([\n",
       "[0],\n",
       "[0],\n",
       "[0],\n",
       "[1]])"
      ]
     },
     "execution_count": 11,
     "metadata": {},
     "output_type": "execute_result"
    }
   ],
   "source": [
    "ket1 = Matrix([0,1])\n",
    "ket0 = Matrix([1,0])\n",
    "\n",
    "TensorProduct(ket1, ket1)"
   ]
  },
  {
   "cell_type": "code",
   "execution_count": null,
   "id": "9469ccfe",
   "metadata": {},
   "outputs": [],
   "source": []
  }
 ],
 "metadata": {
  "kernelspec": {
   "display_name": "Python 3 (ipykernel)",
   "language": "python",
   "name": "python3"
  },
  "language_info": {
   "codemirror_mode": {
    "name": "ipython",
    "version": 3
   },
   "file_extension": ".py",
   "mimetype": "text/x-python",
   "name": "python",
   "nbconvert_exporter": "python",
   "pygments_lexer": "ipython3",
   "version": "3.12.4"
  }
 },
 "nbformat": 4,
 "nbformat_minor": 5
}
