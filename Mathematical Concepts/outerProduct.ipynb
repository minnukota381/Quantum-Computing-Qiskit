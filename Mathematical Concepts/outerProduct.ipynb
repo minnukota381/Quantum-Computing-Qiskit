{
 "cells": [
  {
   "cell_type": "code",
   "execution_count": 1,
   "id": "38362412-7537-418b-b227-9777f752668f",
   "metadata": {},
   "outputs": [
    {
     "name": "stdout",
     "output_type": "stream",
     "text": [
      "Vectors :\n",
      "a =  [2 6]\n",
      "\n",
      "b =  [ 3 10]\n",
      "\n",
      "Outer product of vectors a and b =\n",
      "[[ 6 20]\n",
      " [18 60]]\n",
      "------------------------------------\n",
      "\n",
      "Matrices :\n",
      "x = [[3 6 4]\n",
      " [9 4 6]]\n",
      "\n",
      "y = [[ 1 15  7]\n",
      " [ 3 10  8]]\n",
      "\n",
      "Outer product of matrices x and y =\n",
      "[[  3  45  21   9  30  24]\n",
      " [  6  90  42  18  60  48]\n",
      " [  4  60  28  12  40  32]\n",
      " [  9 135  63  27  90  72]\n",
      " [  4  60  28  12  40  32]\n",
      " [  6  90  42  18  60  48]]\n"
     ]
    }
   ],
   "source": [
    "import numpy as np\n",
    "\n",
    "a = np.array([2, 6])\n",
    "b = np.array([3, 10])\n",
    "print(\"Vectors :\")\n",
    "print(\"a = \", a)\n",
    "print(\"\\nb = \", b)\n",
    "\n",
    "print(\"\\nOuter product of vectors a and b =\")\n",
    "print(np.outer(a, b))\n",
    "\n",
    "print(\"------------------------------------\")\n",
    "\n",
    "x = np.array([[3, 6, 4], [9, 4, 6]])\n",
    "y = np.array([[1, 15, 7], [3, 10, 8]])\n",
    "print(\"\\nMatrices :\")\n",
    "print(\"x =\", x)\n",
    "print(\"\\ny =\", y)\n",
    "\n",
    "print(\"\\nOuter product of matrices x and y =\")\n",
    "print(np.outer(x, y))"
   ]
  }
 ],
 "metadata": {
  "kernelspec": {
   "display_name": "Python 3 (ipykernel)",
   "language": "python",
   "name": "python3"
  },
  "language_info": {
   "codemirror_mode": {
    "name": "ipython",
    "version": 3
   },
   "file_extension": ".py",
   "mimetype": "text/x-python",
   "name": "python",
   "nbconvert_exporter": "python",
   "pygments_lexer": "ipython3",
   "version": "3.12.4"
  }
 },
 "nbformat": 4,
 "nbformat_minor": 5
}
