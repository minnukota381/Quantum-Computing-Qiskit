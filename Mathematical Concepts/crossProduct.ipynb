{
 "cells": [
  {
   "cell_type": "code",
   "execution_count": 1,
   "id": "e0d087eb-a73e-4106-87f4-6ff99002b9f4",
   "metadata": {},
   "outputs": [
    {
     "name": "stdout",
     "output_type": "stream",
     "text": [
      "Vectors :\n",
      "a =  [1 0]\n",
      "\n",
      "b =  [0 1]\n",
      "\n",
      "Cross product of vectors a and b =\n",
      "1\n",
      "------------------------------------\n",
      "\n",
      "Matrices :\n",
      "x = [[2 6 9]\n",
      " [2 7 3]]\n",
      "\n",
      "y = [[ 7  5  6]\n",
      " [ 3 12  3]]\n",
      "\n",
      "Cross product of matrices x and y =\n",
      "[[ -9  51 -32]\n",
      " [-15   3   3]]\n"
     ]
    }
   ],
   "source": [
    "import numpy as np\n",
    "\n",
    "a = np.array([1, 0])\n",
    "b = np.array([0, 1])\n",
    "print(\"Vectors :\")\n",
    "print(\"a = \", a)\n",
    "print(\"\\nb = \", b)\n",
    "\n",
    "print(\"\\nCross product of vectors a and b =\")\n",
    "print(np.cross(a, b))\n",
    "\n",
    "print(\"------------------------------------\")\n",
    "\n",
    "x = np.array([[2, 6, 9], [2, 7, 3]])\n",
    "y = np.array([[7, 5, 6], [3, 12, 3]])\n",
    "print(\"\\nMatrices :\")\n",
    "print(\"x =\", x)\n",
    "print(\"\\ny =\", y)\n",
    "\n",
    "print(\"\\nCross product of matrices x and y =\")\n",
    "print(np.cross(x, y))"
   ]
  }
 ],
 "metadata": {
  "kernelspec": {
   "display_name": "Python 3 (ipykernel)",
   "language": "python",
   "name": "python3"
  },
  "language_info": {
   "codemirror_mode": {
    "name": "ipython",
    "version": 3
   },
   "file_extension": ".py",
   "mimetype": "text/x-python",
   "name": "python",
   "nbconvert_exporter": "python",
   "pygments_lexer": "ipython3",
   "version": "3.12.4"
  }
 },
 "nbformat": 4,
 "nbformat_minor": 5
}
