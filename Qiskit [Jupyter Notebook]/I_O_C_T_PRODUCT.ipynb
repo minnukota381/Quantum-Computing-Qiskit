{
 "cells": [
  {
   "cell_type": "markdown",
   "id": "6e41fdbe",
   "metadata": {},
   "source": [
    "# INNER PRODUCT"
   ]
  },
  {
   "cell_type": "code",
   "execution_count": 1,
   "id": "37c9396f",
   "metadata": {},
   "outputs": [
    {
     "name": "stdout",
     "output_type": "stream",
     "text": [
      "Vectors :\n",
      "a =  [2 6]\n",
      "\n",
      "b =  [ 3 10]\n",
      "\n",
      "Inner product of vectors a and b =\n",
      "66\n",
      "---------------------------------------\n",
      "\n",
      "Matrices :\n",
      "x = [[2 3 4]\n",
      " [3 2 9]]\n",
      "\n",
      "y = [[ 1  5  0]\n",
      " [ 5 10  3]]\n",
      "\n",
      "Inner product of matrices x and y =\n",
      "[[17 52]\n",
      " [13 62]]\n"
     ]
    }
   ],
   "source": [
    "# Python Program illustrating\n",
    "# numpy.inner() method\n",
    "import numpy as np\n",
    "\n",
    "# Vectors\n",
    "a = np.array([2, 6])\n",
    "b = np.array([3, 10])\n",
    "print(\"Vectors :\")\n",
    "print(\"a = \", a)\n",
    "print(\"\\nb = \", b)\n",
    "\n",
    "# Inner Product of Vectors\n",
    "print(\"\\nInner product of vectors a and b =\")\n",
    "print(np.inner(a, b))\n",
    "\n",
    "print(\"---------------------------------------\")\n",
    "\n",
    "# Matrices\n",
    "x = np.array([[2, 3, 4], [3, 2, 9]])\n",
    "y = np.array([[1, 5, 0], [5, 10, 3]])\n",
    "print(\"\\nMatrices :\")\n",
    "print(\"x =\", x)\n",
    "print(\"\\ny =\", y)\n",
    "\n",
    "# Inner product of matrices\n",
    "print(\"\\nInner product of matrices x and y =\")\n",
    "print(np.inner(x, y))\n"
   ]
  },
  {
   "cell_type": "markdown",
   "id": "1da8ac9f",
   "metadata": {},
   "source": [
    "# OUTER PRODUCT"
   ]
  },
  {
   "cell_type": "code",
   "execution_count": 2,
   "id": "4742da0c",
   "metadata": {},
   "outputs": [
    {
     "name": "stdout",
     "output_type": "stream",
     "text": [
      "Vectors :\n",
      "a =  [2 6]\n",
      "\n",
      "b =  [ 3 10]\n",
      "\n",
      "Outer product of vectors a and b =\n",
      "[[ 6 20]\n",
      " [18 60]]\n",
      "------------------------------------\n",
      "\n",
      "Matrices :\n",
      "x = [[3 6 4]\n",
      " [9 4 6]]\n",
      "\n",
      "y = [[ 1 15  7]\n",
      " [ 3 10  8]]\n",
      "\n",
      "Outer product of matrices x and y =\n",
      "[[  3  45  21   9  30  24]\n",
      " [  6  90  42  18  60  48]\n",
      " [  4  60  28  12  40  32]\n",
      " [  9 135  63  27  90  72]\n",
      " [  4  60  28  12  40  32]\n",
      " [  6  90  42  18  60  48]]\n"
     ]
    }
   ],
   "source": [
    "# Python Program illustrating\n",
    "# numpy.outer() method\n",
    "import numpy as np\n",
    "\n",
    "# Vectors\n",
    "a = np.array([2, 6])\n",
    "b = np.array([3, 10])\n",
    "print(\"Vectors :\")\n",
    "print(\"a = \", a)\n",
    "print(\"\\nb = \", b)\n",
    "\n",
    "# Outer product of vectors\n",
    "print(\"\\nOuter product of vectors a and b =\")\n",
    "print(np.outer(a, b))\n",
    "\n",
    "print(\"------------------------------------\")\n",
    "\n",
    "# Matrices\n",
    "x = np.array([[3, 6, 4], [9, 4, 6]])\n",
    "y = np.array([[1, 15, 7], [3, 10, 8]])\n",
    "print(\"\\nMatrices :\")\n",
    "print(\"x =\", x)\n",
    "print(\"\\ny =\", y)\n",
    "\n",
    "# Outer product of matrices\n",
    "print(\"\\nOuter product of matrices x and y =\")\n",
    "print(np.outer(x, y))\n"
   ]
  },
  {
   "cell_type": "markdown",
   "id": "289adde6",
   "metadata": {},
   "source": [
    "# CROSS PRODUCT"
   ]
  },
  {
   "cell_type": "code",
   "execution_count": 1,
   "id": "ff14defe",
   "metadata": {},
   "outputs": [
    {
     "name": "stdout",
     "output_type": "stream",
     "text": [
      "Vectors :\n",
      "a =  [1 0]\n",
      "\n",
      "b =  [0 1]\n",
      "\n",
      "Cross product of vectors a and b =\n",
      "1\n",
      "------------------------------------\n",
      "\n",
      "Matrices :\n",
      "x = [[2 6 9]\n",
      " [2 7 3]]\n",
      "\n",
      "y = [[ 7  5  6]\n",
      " [ 3 12  3]]\n",
      "\n",
      "Cross product of matrices x and y =\n",
      "[[ -9  51 -32]\n",
      " [-15   3   3]]\n"
     ]
    }
   ],
   "source": [
    "# Python Program illustrating\n",
    "# numpy.cross() method\n",
    "import numpy as np\n",
    "\n",
    "# Vectors\n",
    "a = np.array([1, 0])\n",
    "b = np.array([0, 1])\n",
    "print(\"Vectors :\")\n",
    "print(\"a = \", a)\n",
    "print(\"\\nb = \", b)\n",
    "\n",
    "# Cross product of vectors\n",
    "print(\"\\nCross product of vectors a and b =\")\n",
    "print(np.cross(a, b))\n",
    "\n",
    "print(\"------------------------------------\")\n",
    "\n",
    "# Matrices\n",
    "x = np.array([[2, 6, 9], [2, 7, 3]])\n",
    "y = np.array([[7, 5, 6], [3, 12, 3]])\n",
    "print(\"\\nMatrices :\")\n",
    "print(\"x =\", x)\n",
    "print(\"\\ny =\", y)\n",
    "\n",
    "# Cross product of matrices\n",
    "print(\"\\nCross product of matrices x and y =\")\n",
    "print(np.cross(x, y))\n"
   ]
  },
  {
   "cell_type": "markdown",
   "id": "f61fba88",
   "metadata": {},
   "source": [
    "# TENSOR PRODUCT"
   ]
  },
  {
   "cell_type": "markdown",
   "id": "86a24cc7",
   "metadata": {},
   "source": [
    "### |00>"
   ]
  },
  {
   "cell_type": "code",
   "execution_count": 7,
   "id": "81a965a9",
   "metadata": {},
   "outputs": [
    {
     "data": {
      "text/latex": [
       "$\\displaystyle \\left[\\begin{matrix}1\\\\0\\\\0\\\\0\\end{matrix}\\right]$"
      ],
      "text/plain": [
       "Matrix([\n",
       "[1],\n",
       "[0],\n",
       "[0],\n",
       "[0]])"
      ]
     },
     "execution_count": 7,
     "metadata": {},
     "output_type": "execute_result"
    }
   ],
   "source": [
    "from sympy import Matrix\n",
    "from sympy.physics.quantum import TensorProduct\n",
    "\n",
    "ket0 = Matrix([1,0])\n",
    "ket0 = Matrix([1,0])\n",
    "TensorProduct(ket0, ket0)\n"
   ]
  },
  {
   "cell_type": "markdown",
   "id": "69d2fcfd",
   "metadata": {},
   "source": [
    "### |01>"
   ]
  },
  {
   "cell_type": "code",
   "execution_count": 11,
   "id": "19db5bb0",
   "metadata": {},
   "outputs": [
    {
     "data": {
      "text/latex": [
       "$\\displaystyle \\left[\\begin{matrix}0\\\\1\\\\0\\\\0\\end{matrix}\\right]$"
      ],
      "text/plain": [
       "Matrix([\n",
       "[0],\n",
       "[1],\n",
       "[0],\n",
       "[0]])"
      ]
     },
     "execution_count": 11,
     "metadata": {},
     "output_type": "execute_result"
    }
   ],
   "source": [
    "ket0 = Matrix([1,0])\n",
    "ket1 = Matrix([0,1])\n",
    "TensorProduct(ket0, ket1)\n"
   ]
  },
  {
   "cell_type": "markdown",
   "id": "cccf8900",
   "metadata": {},
   "source": [
    "### |10>"
   ]
  },
  {
   "cell_type": "code",
   "execution_count": 12,
   "id": "0cad379a",
   "metadata": {},
   "outputs": [
    {
     "data": {
      "text/latex": [
       "$\\displaystyle \\left[\\begin{matrix}0\\\\0\\\\1\\\\0\\end{matrix}\\right]$"
      ],
      "text/plain": [
       "Matrix([\n",
       "[0],\n",
       "[0],\n",
       "[1],\n",
       "[0]])"
      ]
     },
     "execution_count": 12,
     "metadata": {},
     "output_type": "execute_result"
    }
   ],
   "source": [
    "ket1 = Matrix([0,1])\n",
    "ket0 = Matrix([1,0])\n",
    "\n",
    "TensorProduct(ket1, ket0)\n"
   ]
  },
  {
   "cell_type": "markdown",
   "id": "5da37ce8",
   "metadata": {},
   "source": [
    "### |11>"
   ]
  },
  {
   "cell_type": "code",
   "execution_count": 13,
   "id": "9632b43b",
   "metadata": {},
   "outputs": [
    {
     "data": {
      "text/latex": [
       "$\\displaystyle \\left[\\begin{matrix}0\\\\0\\\\0\\\\1\\end{matrix}\\right]$"
      ],
      "text/plain": [
       "Matrix([\n",
       "[0],\n",
       "[0],\n",
       "[0],\n",
       "[1]])"
      ]
     },
     "execution_count": 13,
     "metadata": {},
     "output_type": "execute_result"
    }
   ],
   "source": [
    "ket1 = Matrix([0,1])\n",
    "ket0 = Matrix([1,0])\n",
    "\n",
    "TensorProduct(ket1, ket1)"
   ]
  },
  {
   "cell_type": "code",
   "execution_count": null,
   "id": "9469ccfe",
   "metadata": {},
   "outputs": [],
   "source": []
  }
 ],
 "metadata": {
  "kernelspec": {
   "display_name": "Python 3 (ipykernel)",
   "language": "python",
   "name": "python3"
  },
  "language_info": {
   "codemirror_mode": {
    "name": "ipython",
    "version": 3
   },
   "file_extension": ".py",
   "mimetype": "text/x-python",
   "name": "python",
   "nbconvert_exporter": "python",
   "pygments_lexer": "ipython3",
   "version": "3.10.9"
  }
 },
 "nbformat": 4,
 "nbformat_minor": 5
}
