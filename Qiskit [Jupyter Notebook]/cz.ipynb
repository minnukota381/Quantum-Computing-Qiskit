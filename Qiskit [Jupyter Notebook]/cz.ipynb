{
 "cells": [
  {
   "cell_type": "code",
   "execution_count": 1,
   "metadata": {},
   "outputs": [],
   "source": [
    "from qiskit import *\n",
    "from qiskit.visualization import plot_bloch_multivector, visualize_transition, plot_histogram"
   ]
  },
  {
   "cell_type": "code",
   "execution_count": 2,
   "metadata": {},
   "outputs": [],
   "source": [
    "# Create a quantum circuit with 2 qubits\n",
    "# The default initial state of qubits will be |0> or [1,0]\n",
    "qc = QuantumCircuit(2)"
   ]
  },
  {
   "cell_type": "code",
   "execution_count": 3,
   "metadata": {},
   "outputs": [
    {
     "data": {
      "text/plain": [
       "<qiskit.circuit.instructionset.InstructionSet at 0x1bacfc2a460>"
      ]
     },
     "execution_count": 3,
     "metadata": {},
     "output_type": "execute_result"
    }
   ],
   "source": [
    "#Applying the CZ gate\n",
    "qc.cz(0,1)"
   ]
  },
  {
   "cell_type": "code",
   "execution_count": 4,
   "metadata": {
    "scrolled": false
   },
   "outputs": [
    {
     "data": {
      "image/png": "[encoded data removed]",
      "text/plain": [
       "<Figure size 146.652x144.48 with 1 Axes>"
      ]
     },
     "execution_count": 4,
     "metadata": {},
     "output_type": "execute_result"
    }
   ],
   "source": [
    "#Draw the circuit\n",
    "qc.draw('mpl')"
   ]
  },
  {
   "cell_type": "code",
   "execution_count": 5,
   "metadata": {},
   "outputs": [],
   "source": [
    "#Get the backend for the circuit to display unitary matrix\n",
    "backend = Aer.get_backend('unitary_simulator')"
   ]
  },
  {
   "cell_type": "code",
   "execution_count": 6,
   "metadata": {},
   "outputs": [],
   "source": [
    "#execute the circuit using the backend\n",
    "out = execute(qc,backend).result().get_unitary()"
   ]
  },
  {
   "cell_type": "code",
   "execution_count": 7,
   "metadata": {},
   "outputs": [
    {
     "data": {
      "text/latex": [
       "$\\displaystyle \n",
       "\\text{UnitaryMatrix} = \\begin{bmatrix}\n",
       "1 & 0 & 0 & 0  \\\\\n",
       "0 & 1 & 0 & 0  \\\\\n",
       "0 & 0 & 1 & 0  \\\\\n",
       "0 & 0 & 0 & -1  \\\\\n",
       "\\end{bmatrix}\n",
       "$$\n",
       "$"
      ],
      "text/plain": [
       "<IPython.core.display.Math object>"
      ]
     },
     "metadata": {},
     "output_type": "display_data"
    }
   ],
   "source": [
    "#import qiskit_textbook and display the combined unitary matrix\n",
    "from qiskit_textbook.tools import array_to_latex\n",
    "array_to_latex(out, pretext = \"\\\\text{UnitaryMatrix} = \")"
   ]
  },
  {
   "cell_type": "code",
   "execution_count": 8,
   "metadata": {},
   "outputs": [],
   "source": [
    "#Get the backend for the circuit (simulator or realtime system)\n",
    "backend = Aer.get_backend('statevector_simulator')"
   ]
  },
  {
   "cell_type": "code",
   "execution_count": 9,
   "metadata": {},
   "outputs": [],
   "source": [
    "#execute the circuit using the backend\n",
    "out = execute(qc,backend).result().get_statevector()"
   ]
  },
  {
   "cell_type": "code",
   "execution_count": 10,
   "metadata": {
    "scrolled": true
   },
   "outputs": [
    {
     "data": {
      "text/latex": [
       "$\\displaystyle \n",
       "\\text{Statevector} = \\begin{bmatrix}\n",
       "1 \\\\\n",
       "0 \\\\\n",
       "0 \\\\\n",
       "0\n",
       "\\end{bmatrix}\n",
       "$"
      ],
      "text/plain": [
       "<IPython.core.display.Math object>"
      ]
     },
     "metadata": {},
     "output_type": "display_data"
    }
   ],
   "source": [
    "#import qiskit_textbook and display the statevector\n",
    "#from qiskit_textbook.tools import array_to_latex\n",
    "array_to_latex(out, pretext = \"\\\\text{Statevector} = \")"
   ]
  },
  {
   "cell_type": "code",
   "execution_count": 11,
   "metadata": {},
   "outputs": [
    {
     "data": {
      "image/png": "[encoded data removed]",
      "text/plain": [
       "<Figure size 504x360 with 1 Axes>"
      ]
     },
     "execution_count": 11,
     "metadata": {},
     "output_type": "execute_result"
    }
   ],
   "source": [
    "#execute the circuit and get the plain result\n",
    "out = execute(qc,backend).result()\n",
    "#getting the count of the result\n",
    "counts = out.get_counts()\n",
    "#plotting the histogram\n",
    "plot_histogram(counts)"
   ]
  }
 ],
 "metadata": {
  "kernelspec": {
   "display_name": "Python 3",
   "language": "python",
   "name": "python3"
  },
  "language_info": {
   "codemirror_mode": {
    "name": "ipython",
    "version": 3
   },
   "file_extension": ".py",
   "mimetype": "text/x-python",
   "name": "python",
   "nbconvert_exporter": "python",
   "pygments_lexer": "ipython3",
   "version": "3.8.3"
  }
 },
 "nbformat": 4,
 "nbformat_minor": 4
}
