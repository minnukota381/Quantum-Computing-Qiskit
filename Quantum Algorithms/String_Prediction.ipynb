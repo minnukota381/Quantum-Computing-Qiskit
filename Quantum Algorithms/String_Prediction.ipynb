{
 "cells": [
  {
   "cell_type": "code",
   "execution_count": 26,
   "id": "5c5b2f88",
   "metadata": {},
   "outputs": [],
   "source": [
    "import qiskit as q\n",
    "%matplotlib inline"
   ]
  },
  {
   "cell_type": "code",
   "execution_count": 27,
   "id": "116e4fed",
   "metadata": {},
   "outputs": [],
   "source": [
    "from qiskit import *\n",
    "from qiskit.visualization import plot_bloch_multivector, visualize_transition, plot_histogram"
   ]
  },
  {
   "cell_type": "code",
   "execution_count": 28,
   "id": "5a8c727c",
   "metadata": {},
   "outputs": [
    {
     "name": "stdout",
     "output_type": "stream",
     "text": [
      "The string after binary conversion : 1010001111010111000011101110111010011101011101101100001111011111101101111000011101011110100110100111011101100111\n"
     ]
    }
   ],
   "source": [
    "Msg = \"QuantumComputing\"\n",
    "secretnum = ''.join(format(ord(i), 'b') for i in Msg)\n",
    "\n",
    "# printing result\n",
    "print(\"The string after binary conversion : \" + str(secretnum))"
   ]
  },
  {
   "cell_type": "code",
   "execution_count": 29,
   "id": "26037b2c",
   "metadata": {},
   "outputs": [
    {
     "name": "stdout",
     "output_type": "stream",
     "text": [
      "Your Quantum Algorithm is Running!\n",
      "the binary of ur String is 1010001111010111000011101110111010011101011101101100001111011111101101111000011101011110100110100111011101100111\n"
     ]
    }
   ],
   "source": [
    "print(\"Your Quantum Algorithm is Running!\")\n",
    "circuit = q.QuantumCircuit(len(secretnum)+1, len(secretnum))\n",
    "\n",
    "circuit.h(range(len(secretnum)))\n",
    "\n",
    "circuit.x(len(secretnum))\n",
    "circuit.h(len(secretnum))\n",
    "circuit.barrier()\n",
    "\n",
    "for i, j in enumerate(reversed(secretnum)):\n",
    "  if j == '1':\n",
    "    circuit.cx(i, len(secretnum))\n",
    "\n",
    "circuit.barrier()\n",
    "\n",
    "circuit.h(range(len(secretnum)))\n",
    "circuit.barrier()\n",
    "\n",
    "circuit.measure(range(len(secretnum)),range(len(secretnum)))\n",
    "circuit.barrier()\n",
    "\n",
    "simulator = q.Aer.get_backend('qasm_simulator')\n",
    "result = q.execute(circuit, backend=simulator, shots=1).result()\n",
    "counts = result.get_counts()\n",
    "\n",
    "counts = str(counts)\n",
    "counts = (counts[2:len(secretnum)+2])\n",
    "print(\"the binary of ur String is\", counts)"
   ]
  },
  {
   "cell_type": "code",
   "execution_count": 30,
   "id": "f875c067",
   "metadata": {},
   "outputs": [
    {
     "name": "stdout",
     "output_type": "stream",
     "text": [
      "The Binary value after string conversion is:  QuantumComputing\n"
     ]
    }
   ],
   "source": [
    "def BinaryToDecimal(binary): \n",
    "\tstring = int(binary, 2) \n",
    "\treturn string \n",
    "\n",
    "bin_data = str(counts)\n",
    "\n",
    "str_data =' '\n",
    "\n",
    "for i in range(0, len(bin_data), 7): \n",
    "\ttemp_data = bin_data[i:i + 7]  \n",
    "\tdecimal_data = BinaryToDecimal(temp_data) \n",
    "\tstr_data = str_data + chr(decimal_data) \n",
    "\n",
    "# printing the result \n",
    "print(\"The Binary value after string conversion is:\", str_data) "
   ]
  }
 ],
 "metadata": {
  "kernelspec": {
   "display_name": "Python 3 (ipykernel)",
   "language": "python",
   "name": "python3"
  },
  "language_info": {
   "codemirror_mode": {
    "name": "ipython",
    "version": 3
   },
   "file_extension": ".py",
   "mimetype": "text/x-python",
   "name": "python",
   "nbconvert_exporter": "python",
   "pygments_lexer": "ipython3",
   "version": "3.10.9"
  }
 },
 "nbformat": 4,
 "nbformat_minor": 5
}
