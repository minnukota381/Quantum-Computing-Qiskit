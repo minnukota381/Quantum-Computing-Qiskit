{
 "cells": [
  {
   "cell_type": "code",
   "execution_count": null,
   "id": "80f7c0e2-1247-4e7e-8f07-1591badc7f34",
   "metadata": {},
   "outputs": [],
   "source": [
    "import sys\n",
    "print(sys.executable)\n"
   ]
  },
  {
   "cell_type": "code",
   "execution_count": null,
   "id": "ae3d3938",
   "metadata": {},
   "outputs": [],
   "source": [
    "import qiskit"
   ]
  },
  {
   "cell_type": "code",
   "execution_count": null,
   "id": "fb1434fe",
   "metadata": {},
   "outputs": [],
   "source": [
    "qiskit.__qiskit_version__"
   ]
  },
  {
   "cell_type": "code",
   "execution_count": null,
   "id": "4bebb1da",
   "metadata": {},
   "outputs": [],
   "source": [
    "from qiskit import IBMQ"
   ]
  },
  {
   "cell_type": "code",
   "execution_count": null,
   "id": "140cfd3b",
   "metadata": {},
   "outputs": [],
   "source": [
    "IBMQ.save_account('fb335ef56b1d6d43894ad997ae54daf329de8050cda1e2e7a795f9bcae2da2e84ad903bd320d6e1354214371bcf9af7a80c1ccc1e0a546947469913805528928')"
   ]
  },
  {
   "cell_type": "code",
   "execution_count": null,
   "id": "e5b839f8",
   "metadata": {},
   "outputs": [],
   "source": [
    "IBMQ.load_account()\n"
   ]
  },
  {
   "cell_type": "code",
   "execution_count": null,
   "id": "0d70d88b",
   "metadata": {},
   "outputs": [],
   "source": []
  },
  {
   "cell_type": "code",
   "execution_count": null,
   "id": "39eb72fe",
   "metadata": {},
   "outputs": [],
   "source": [
    "import qiskit as q\n",
    "%matplotlib inline\n",
    "circuit=q.QuantumCircuit(2,2)\n",
    "circuit.h(0)\n",
    "circuit.cx(0,1)\n",
    "circuit.measure([0,1],[0,1])\n",
    "circuit.draw()\n"
   ]
  },
  {
   "cell_type": "code",
   "execution_count": null,
   "id": "3c976502",
   "metadata": {},
   "outputs": [],
   "source": [
    "circuit.draw(output=\"mpl\")"
   ]
  },
  {
   "cell_type": "code",
   "execution_count": null,
   "id": "230dbbc0",
   "metadata": {},
   "outputs": [],
   "source": [
    "from qiskit import IBMQ\n"
   ]
  },
  {
   "cell_type": "code",
   "execution_count": null,
   "id": "ee035c83",
   "metadata": {},
   "outputs": [],
   "source": [
    "provider=IBMQ.get_provider(\"ibm-q\")\n",
    "for backend in provider.backends():\n",
    "    try:\n",
    "        qubit_count=len(backend.properties().qubits)\n",
    "    except:\n",
    "        qubit_count=\"simulated\"\n",
    "        print(f\"{backend.name()}has{backend.status().pending_jobs}queued and␣{qubit_count}qubits\")"
   ]
  },
  {
   "cell_type": "code",
   "execution_count": null,
   "id": "0456d6ff",
   "metadata": {},
   "outputs": [],
   "source": [
    "from qiskit.tools.monitor import job_monitor\n",
    "backend=provider.get_backend(\"ibmq_lima\")\n",
    "job=q.execute(circuit,backend=backend,shots=1024)\n",
    "job_monitor(job)"
   ]
  },
  {
   "cell_type": "code",
   "execution_count": null,
   "id": "e10cf603",
   "metadata": {},
   "outputs": [],
   "source": [
    "from qiskit.visualization import plot_histogram\n",
    "from matplotlib import style\n",
    "style.use(\"dark_background\")\n",
    "result=job.result()\n",
    "count=result.get_counts(circuit)\n",
    "plot_histogram([count])"
   ]
  },
  {
   "cell_type": "code",
   "execution_count": null,
   "id": "4068ebbf",
   "metadata": {},
   "outputs": [],
   "source": []
  },
  {
   "cell_type": "code",
   "execution_count": null,
   "id": "d373e234",
   "metadata": {},
   "outputs": [],
   "source": [
    "backend=provider.get_backend(\"ibmq_qasm_simulator\")\n",
    "circuit=q.QuantumCircuit(2,2)\n",
    "circuit.h(0)\n",
    "circuit.cx(0,1)\n",
    "circuit.measure([0,1],[0,1])\n",
    "circuit.draw()"
   ]
  },
  {
   "cell_type": "code",
   "execution_count": null,
   "id": "e90295dd",
   "metadata": {},
   "outputs": [],
   "source": [
    "job=q.execute(circuit,backend=backend,shots=1024)\n",
    "job_monitor(job)\n"
   ]
  },
  {
   "cell_type": "code",
   "execution_count": null,
   "id": "1d88a575",
   "metadata": {},
   "outputs": [],
   "source": [
    "from qiskit.visualization import plot_histogram\n",
    "from matplotlib import style\n",
    "style.use(\"dark_background\")\n",
    "result=job.result()\n",
    "count=result.get_counts(circuit)\n",
    "plot_histogram([count])"
   ]
  },
  {
   "cell_type": "code",
   "execution_count": null,
   "id": "e3d0cb4d",
   "metadata": {},
   "outputs": [],
   "source": []
  },
  {
   "cell_type": "code",
   "execution_count": null,
   "id": "f57a3ab6",
   "metadata": {},
   "outputs": [],
   "source": [
    "from qiskit import Aer\n",
    "sim_backend=Aer.get_backend(\"qasm_simulator\")\n",
    "for backend in Aer.backends():\n",
    "    print(backend)"
   ]
  },
  {
   "cell_type": "code",
   "execution_count": null,
   "id": "0f0b495a",
   "metadata": {},
   "outputs": [],
   "source": [
    "job=q.execute(circuit,backend=sim_backend,shots=1024)\n",
    "job_monitor(job)"
   ]
  },
  {
   "cell_type": "code",
   "execution_count": null,
   "id": "4f3505b4",
   "metadata": {},
   "outputs": [],
   "source": [
    "from qiskit.visualization import plot_histogram\n",
    "from matplotlib import style\n",
    "style.use(\"dark_background\")\n",
    "result=job.result()\n",
    "count=result.get_counts(circuit)\n",
    "plot_histogram([count])\n"
   ]
  },
  {
   "cell_type": "code",
   "execution_count": null,
   "id": "88b80220",
   "metadata": {},
   "outputs": [],
   "source": []
  },
  {
   "cell_type": "code",
   "execution_count": null,
   "id": "c3a1e40f",
   "metadata": {},
   "outputs": [],
   "source": [
    "from qiskit import *\n",
    "circuit=QuantumCircuit(3,3)\n",
    "%matplotlib inline\n",
    "from qiskit.tools.visualization import plot_histogram\n",
    "from qiskit.tools.visualization import plot_bloch_multivector\n",
    "from qiskit.tools.visualization import plot_state_qsphere"
   ]
  },
  {
   "cell_type": "code",
   "execution_count": null,
   "id": "deef508d",
   "metadata": {},
   "outputs": [],
   "source": [
    "# QFT\n",
    "# Initialize the 3-qubit quantum circuit\n",
    "# Set the state '110'\n",
    "s = '110'\n",
    "num_qubits = len(s)\n",
    "qc = QuantumCircuit(num_qubits)"
   ]
  },
  {
   "cell_type": "code",
   "execution_count": null,
   "id": "cfc33035",
   "metadata": {},
   "outputs": [],
   "source": [
    "# Set reverse ordering\n",
    "s = s[::-1]"
   ]
  },
  {
   "cell_type": "code",
   "execution_count": null,
   "id": "c886d76e",
   "metadata": {},
   "outputs": [],
   "source": [
    "# Construct the state 110\n",
    "for idx in range(num_qubits):\n",
    "    if s[idx] == '1':\n",
    "        qc.x(idx)\n",
    "qc.barrier()\n",
    "qc.draw()\n"
   ]
  },
  {
   "cell_type": "code",
   "execution_count": null,
   "id": "69b5bfa5",
   "metadata": {},
   "outputs": [],
   "source": [
    "circuit.draw(output='mpl')"
   ]
  },
  {
   "cell_type": "code",
   "execution_count": null,
   "id": "116a8a1d",
   "metadata": {},
   "outputs": [],
   "source": [
    "# Import the value pi for our rotations\n",
    "from numpy import pi\n",
    "# Always start from the most significant qubit,\n",
    "# in this case it's q2.\n",
    "# Step 1, add a Hadamard gate\n",
    "qc.h(2)"
   ]
  },
  {
   "cell_type": "code",
   "execution_count": null,
   "id": "24320a50",
   "metadata": {},
   "outputs": [],
   "source": [
    "# Step 2, add CROT gates from most significant qubit\n",
    "qc.cu1(pi/2,1,2)"
   ]
  },
  {
   "cell_type": "code",
   "execution_count": null,
   "id": "2ef16ba8",
   "metadata": {},
   "outputs": [],
   "source": [
    "# Step 3, add another CROT from 2 to the next qubit down,\n",
    "# while doubling the phase denominator\n",
    "qc.cu1(pi/4, 0, 2)\n",
    "# Draw the circuit\n",
    "qc.draw()"
   ]
  },
  {
   "cell_type": "code",
   "execution_count": null,
   "id": "845ef880",
   "metadata": {},
   "outputs": [],
   "source": [
    "# Now that we finished from 2 down to 0\n",
    "# We'll drop to the next least significant qubit and\n",
    "# start again,\n",
    "# Step 1, add a Hadamard gate\n",
    "qc.h(1)\n"
   ]
  },
  {
   "cell_type": "code",
   "execution_count": null,
   "id": "875093fb",
   "metadata": {},
   "outputs": [],
   "source": [
    "# Step 2, add Control Rotation (CROT) gates from most\n",
    "# significant towards\n",
    "# least significant starting a pi/2, and doubling the\n",
    "# denominator\n",
    "# as you go down each qubit.\n",
    "qc.cu1(pi/2, 0, 1)\n",
    "# Draw the circuit\n",
    "qc.draw()\n",
    "# Now that we finished from 1 down to 0\n",
    "# We'll drop to the next least significant qubit and \n",
    "# Start again"
   ]
  },
  {
   "cell_type": "code",
   "execution_count": null,
   "id": "e96d4479",
   "metadata": {},
   "outputs": [],
   "source": [
    "# Step 1, add a Hadamard gate\n",
    "qc.h(0)\n",
    "# Since we are at the least significant qubit, we are\n",
    "# done!\n",
    "# Draw the circuit\n",
    "qc.draw()"
   ]
  },
  {
   "cell_type": "code",
   "execution_count": null,
   "id": "e2aa80a0",
   "metadata": {},
   "outputs": [],
   "source": [
    "# Define a function which will add the swap gates to the \n",
    "# outer\n",
    "# pair of qubits\n",
    "def add_swap_gates(qc_swaps,qubits):\n",
    "    for qubit in range(qubits//2):\n",
    "        qc-swaps.swap(qubit, qubit-qubit-1)\n",
    "    return qc_swaps"
   ]
  },
  {
   "cell_type": "code",
   "execution_count": null,
   "id": "f8df0cba",
   "metadata": {},
   "outputs": [],
   "source": [
    "qft_circuit=add_swap_gates(qc, num, qubits)\n",
    "qft_circuit.draw()"
   ]
  },
  {
   "cell_type": "code",
   "execution_count": null,
   "id": "a3a4f3d7",
   "metadata": {},
   "outputs": [],
   "source": [
    " # Get the state vector simulator to view our final QFT\n",
    "# state\n",
    "backend = Aer.get_backend(\"statevector_simulator\")\n",
    "# Execute the QFT circuit and visualize the results\n",
    "statevector = execute(qft_circuit,backend=backend).result().get_statevector()\n",
    "plot_bloch_multivector(statevector)"
   ]
  },
  {
   "cell_type": "code",
   "execution_count": null,
   "id": "7ecb4f41",
   "metadata": {},
   "outputs": [],
   "source": [
    "plot_state_qsphere(statevector)\n"
   ]
  }
 ],
 "metadata": {
  "kernelspec": {
   "display_name": "Python 3 (ipykernel)",
   "language": "python",
   "name": "python3"
  },
  "language_info": {
   "codemirror_mode": {
    "name": "ipython",
    "version": 3
   },
   "file_extension": ".py",
   "mimetype": "text/x-python",
   "name": "python",
   "nbconvert_exporter": "python",
   "pygments_lexer": "ipython3",
   "version": "3.12.4"
  }
 },
 "nbformat": 4,
 "nbformat_minor": 5
}
