{
 "cells": [
  {
   "cell_type": "code",
   "execution_count": 14,
   "id": "ae3d3938",
   "metadata": {},
   "outputs": [],
   "source": [
    "import qiskit"
   ]
  },
  {
   "cell_type": "code",
   "execution_count": null,
   "id": "4bebb1da",
   "metadata": {},
   "outputs": [],
   "source": [
    "from qiskit_ibm_provider import IBMProvider\n",
    "\n",
    "# Replace 'YOUR_TOKEN_HERE' with your actual IBM Quantum token\n",
    "IBMProvider.save_account(token='d6f46b30e816ce68e1443bb9d9a02438a0921f1c6183fb6ca019f0d921fa2725b42b9a4789c58ee8f7e7c5d79e19d5902de3b8001520c205035b37efa310bf67', overwrite=True)\n",
    "\n",
    "# Initialize the provider\n",
    "provider = IBMProvider()\n",
    "\n",
    "# Now you can use the provider to access IBM Quantum services"
   ]
  },
  {
   "cell_type": "code",
   "execution_count": null,
   "id": "140cfd3b",
   "metadata": {},
   "outputs": [],
   "source": [
    "IBMProvider.save_account(token='d6f46b30e816ce68e1443bb9d9a02438a0921f1c6183fb6ca019f0d921fa2725b42b9a4789c58ee8f7e7c5d79e19d5902de3b8001520c205035b37efa310bf67', overwrite=True)"
   ]
  },
  {
   "cell_type": "code",
   "execution_count": 10,
   "id": "39eb72fe",
   "metadata": {},
   "outputs": [
    {
     "data": {
      "text/html": [
       "<pre style=\"word-wrap: normal;white-space: pre;background: #fff0;line-height: 1.1;font-family: &quot;Courier New&quot;,Courier,monospace\">     ┌───┐     ┌─┐   \n",
       "q_0: ┤ H ├──■──┤M├───\n",
       "     └───┘┌─┴─┐└╥┘┌─┐\n",
       "q_1: ─────┤ X ├─╫─┤M├\n",
       "          └───┘ ║ └╥┘\n",
       "c: 2/═══════════╩══╩═\n",
       "                0  1 </pre>"
      ],
      "text/plain": [
       "     ┌───┐     ┌─┐   \n",
       "q_0: ┤ H ├──■──┤M├───\n",
       "     └───┘┌─┴─┐└╥┘┌─┐\n",
       "q_1: ─────┤ X ├─╫─┤M├\n",
       "          └───┘ ║ └╥┘\n",
       "c: 2/═══════════╩══╩═\n",
       "                0  1 "
      ]
     },
     "execution_count": 10,
     "metadata": {},
     "output_type": "execute_result"
    }
   ],
   "source": [
    "import qiskit as q\n",
    "%matplotlib inline\n",
    "circuit=q.QuantumCircuit(2,2)\n",
    "circuit.h(0)\n",
    "circuit.cx(0,1)\n",
    "circuit.measure([0,1],[0,1])\n",
    "circuit.draw()\n"
   ]
  },
  {
   "cell_type": "code",
   "execution_count": 11,
   "id": "3c976502",
   "metadata": {},
   "outputs": [
    {
     "data": {
      "image/png": "[encoded data removed]",
      "text/plain": [
       "<Figure size 454.517x284.278 with 1 Axes>"
      ]
     },
     "execution_count": 11,
     "metadata": {},
     "output_type": "execute_result"
    }
   ],
   "source": [
    "circuit.draw(output=\"mpl\")"
   ]
  },
  {
   "cell_type": "code",
   "execution_count": 2,
   "id": "ee035c83",
   "metadata": {},
   "outputs": [
    {
     "name": "stderr",
     "output_type": "stream",
     "text": [
      "C:\\Users\\Minnu\\AppData\\Local\\Temp\\ipykernel_6792\\3372708318.py:1: DeprecationWarning: The package qiskit_ibm_provider is being deprecated. Please see https://docs.quantum.ibm.com/api/migration-guides/qiskit-runtime to get instructions on how to migrate to qiskit-ibm-runtime (https://github.com/Qiskit/qiskit-ibm-runtime).\n",
      "  from qiskit_ibm_provider import IBMProvider\n"
     ]
    },
    {
     "name": "stdout",
     "output_type": "stream",
     "text": [
      "ibm_brisbane has 456 queued and 127 qubits\n",
      "ibm_kyoto has 436 queued and 127 qubits\n",
      "ibm_osaka has 410 queued and 127 qubits\n",
      "ibm_sherbrooke has 881 queued and 127 qubits\n"
     ]
    }
   ],
   "source": [
    "from qiskit_ibm_provider import IBMProvider\n",
    "\n",
    "# Load the saved account\n",
    "provider = IBMProvider()\n",
    "\n",
    "for backend in provider.backends():\n",
    "    try:\n",
    "        qubit_count = len(backend.properties().qubits)\n",
    "    except:\n",
    "        qubit_count = \"simulated\"\n",
    "    \n",
    "    print(f\"{backend.name} has {backend.status().pending_jobs} queued and {qubit_count} qubits\")"
   ]
  },
  {
   "cell_type": "code",
   "execution_count": 3,
   "id": "0456d6ff",
   "metadata": {},
   "outputs": [
    {
     "ename": "ModuleNotFoundError",
     "evalue": "No module named 'qiskit.tools'",
     "output_type": "error",
     "traceback": [
      "\u001b[1;31m---------------------------------------------------------------------------\u001b[0m",
      "\u001b[1;31mModuleNotFoundError\u001b[0m                       Traceback (most recent call last)",
      "Cell \u001b[1;32mIn[3], line 1\u001b[0m\n\u001b[1;32m----> 1\u001b[0m \u001b[38;5;28;01mfrom\u001b[39;00m \u001b[38;5;21;01mqiskit\u001b[39;00m\u001b[38;5;21;01m.\u001b[39;00m\u001b[38;5;21;01mtools\u001b[39;00m\u001b[38;5;21;01m.\u001b[39;00m\u001b[38;5;21;01mmonitor\u001b[39;00m \u001b[38;5;28;01mimport\u001b[39;00m job_monitor\n\u001b[0;32m      2\u001b[0m backend\u001b[38;5;241m=\u001b[39mprovider\u001b[38;5;241m.\u001b[39mget_backend(\u001b[38;5;124m\"\u001b[39m\u001b[38;5;124mibmq_lima\u001b[39m\u001b[38;5;124m\"\u001b[39m)\n\u001b[0;32m      3\u001b[0m job\u001b[38;5;241m=\u001b[39mq\u001b[38;5;241m.\u001b[39mexecute(circuit,backend\u001b[38;5;241m=\u001b[39mbackend,shots\u001b[38;5;241m=\u001b[39m\u001b[38;5;241m1024\u001b[39m)\n",
      "\u001b[1;31mModuleNotFoundError\u001b[0m: No module named 'qiskit.tools'"
     ]
    }
   ],
   "source": [
    "from qiskit.tools.monitor import job_monitor\n",
    "backend=provider.get_backend(\"ibmq_lima\")\n",
    "job=q.execute(circuit,backend=backend,shots=1024)\n",
    "job_monitor(job)"
   ]
  },
  {
   "cell_type": "code",
   "execution_count": null,
   "id": "e10cf603",
   "metadata": {},
   "outputs": [],
   "source": [
    "from qiskit.visualization import plot_histogram\n",
    "from matplotlib import style\n",
    "style.use(\"dark_background\")\n",
    "result=job.result()\n",
    "count=result.get_counts(circuit)\n",
    "plot_histogram([count])"
   ]
  },
  {
   "cell_type": "code",
   "execution_count": null,
   "id": "4068ebbf",
   "metadata": {},
   "outputs": [],
   "source": []
  },
  {
   "cell_type": "code",
   "execution_count": null,
   "id": "d373e234",
   "metadata": {},
   "outputs": [],
   "source": [
    "backend=provider.get_backend(\"ibmq_qasm_simulator\")\n",
    "circuit=q.QuantumCircuit(2,2)\n",
    "circuit.h(0)\n",
    "circuit.cx(0,1)\n",
    "circuit.measure([0,1],[0,1])\n",
    "circuit.draw()"
   ]
  },
  {
   "cell_type": "code",
   "execution_count": null,
   "id": "e90295dd",
   "metadata": {},
   "outputs": [],
   "source": [
    "job=q.execute(circuit,backend=backend,shots=1024)\n",
    "job_monitor(job)\n"
   ]
  },
  {
   "cell_type": "code",
   "execution_count": null,
   "id": "1d88a575",
   "metadata": {},
   "outputs": [],
   "source": [
    "from qiskit.visualization import plot_histogram\n",
    "from matplotlib import style\n",
    "style.use(\"dark_background\")\n",
    "result=job.result()\n",
    "count=result.get_counts(circuit)\n",
    "plot_histogram([count])"
   ]
  },
  {
   "cell_type": "code",
   "execution_count": null,
   "id": "e3d0cb4d",
   "metadata": {},
   "outputs": [],
   "source": []
  },
  {
   "cell_type": "code",
   "execution_count": null,
   "id": "f57a3ab6",
   "metadata": {},
   "outputs": [],
   "source": [
    "from qiskit import Aer\n",
    "sim_backend=Aer.get_backend(\"qasm_simulator\")\n",
    "for backend in Aer.backends():\n",
    "    print(backend)"
   ]
  },
  {
   "cell_type": "code",
   "execution_count": null,
   "id": "0f0b495a",
   "metadata": {},
   "outputs": [],
   "source": [
    "job=q.execute(circuit,backend=sim_backend,shots=1024)\n",
    "job_monitor(job)"
   ]
  },
  {
   "cell_type": "code",
   "execution_count": null,
   "id": "4f3505b4",
   "metadata": {},
   "outputs": [],
   "source": [
    "from qiskit.visualization import plot_histogram\n",
    "from matplotlib import style\n",
    "style.use(\"dark_background\")\n",
    "result=job.result()\n",
    "count=result.get_counts(circuit)\n",
    "plot_histogram([count])\n"
   ]
  },
  {
   "cell_type": "code",
   "execution_count": null,
   "id": "88b80220",
   "metadata": {},
   "outputs": [],
   "source": []
  },
  {
   "cell_type": "code",
   "execution_count": null,
   "id": "c3a1e40f",
   "metadata": {},
   "outputs": [],
   "source": [
    "from qiskit import *\n",
    "circuit=QuantumCircuit(3,3)\n",
    "%matplotlib inline\n",
    "from qiskit.tools.visualization import plot_histogram\n",
    "from qiskit.tools.visualization import plot_bloch_multivector\n",
    "from qiskit.tools.visualization import plot_state_qsphere"
   ]
  },
  {
   "cell_type": "code",
   "execution_count": null,
   "id": "deef508d",
   "metadata": {},
   "outputs": [],
   "source": [
    "# QFT\n",
    "# Initialize the 3-qubit quantum circuit\n",
    "# Set the state '110'\n",
    "s = '110'\n",
    "num_qubits = len(s)\n",
    "qc = QuantumCircuit(num_qubits)"
   ]
  },
  {
   "cell_type": "code",
   "execution_count": null,
   "id": "cfc33035",
   "metadata": {},
   "outputs": [],
   "source": [
    "# Set reverse ordering\n",
    "s = s[::-1]"
   ]
  },
  {
   "cell_type": "code",
   "execution_count": null,
   "id": "c886d76e",
   "metadata": {},
   "outputs": [],
   "source": [
    "# Construct the state 110\n",
    "for idx in range(num_qubits):\n",
    "    if s[idx] == '1':\n",
    "        qc.x(idx)\n",
    "qc.barrier()\n",
    "qc.draw()\n"
   ]
  },
  {
   "cell_type": "code",
   "execution_count": null,
   "id": "69b5bfa5",
   "metadata": {},
   "outputs": [],
   "source": [
    "circuit.draw(output='mpl')"
   ]
  },
  {
   "cell_type": "code",
   "execution_count": null,
   "id": "116a8a1d",
   "metadata": {},
   "outputs": [],
   "source": [
    "# Import the value pi for our rotations\n",
    "from numpy import pi\n",
    "# Always start from the most significant qubit,\n",
    "# in this case it's q2.\n",
    "# Step 1, add a Hadamard gate\n",
    "qc.h(2)"
   ]
  },
  {
   "cell_type": "code",
   "execution_count": null,
   "id": "24320a50",
   "metadata": {},
   "outputs": [],
   "source": [
    "# Step 2, add CROT gates from most significant qubit\n",
    "qc.cu1(pi/2,1,2)"
   ]
  },
  {
   "cell_type": "code",
   "execution_count": null,
   "id": "2ef16ba8",
   "metadata": {},
   "outputs": [],
   "source": [
    "# Step 3, add another CROT from 2 to the next qubit down,\n",
    "# while doubling the phase denominator\n",
    "qc.cu1(pi/4, 0, 2)\n",
    "# Draw the circuit\n",
    "qc.draw()"
   ]
  },
  {
   "cell_type": "code",
   "execution_count": null,
   "id": "845ef880",
   "metadata": {},
   "outputs": [],
   "source": [
    "# Now that we finished from 2 down to 0\n",
    "# We'll drop to the next least significant qubit and\n",
    "# start again,\n",
    "# Step 1, add a Hadamard gate\n",
    "qc.h(1)\n"
   ]
  },
  {
   "cell_type": "code",
   "execution_count": 4,
   "id": "875093fb",
   "metadata": {},
   "outputs": [
    {
     "ename": "NameError",
     "evalue": "name 'qc' is not defined",
     "output_type": "error",
     "traceback": [
      "\u001b[1;31m---------------------------------------------------------------------------\u001b[0m",
      "\u001b[1;31mNameError\u001b[0m                                 Traceback (most recent call last)",
      "Cell \u001b[1;32mIn[4], line 6\u001b[0m\n\u001b[0;32m      1\u001b[0m \u001b[38;5;66;03m# Step 2, add Control Rotation (CROT) gates from most\u001b[39;00m\n\u001b[0;32m      2\u001b[0m \u001b[38;5;66;03m# significant towards\u001b[39;00m\n\u001b[0;32m      3\u001b[0m \u001b[38;5;66;03m# least significant starting a pi/2, and doubling the\u001b[39;00m\n\u001b[0;32m      4\u001b[0m \u001b[38;5;66;03m# denominator\u001b[39;00m\n\u001b[0;32m      5\u001b[0m \u001b[38;5;66;03m# as you go down each qubit.\u001b[39;00m\n\u001b[1;32m----> 6\u001b[0m qc\u001b[38;5;241m.\u001b[39mcu1(pi\u001b[38;5;241m/\u001b[39m\u001b[38;5;241m2\u001b[39m, \u001b[38;5;241m0\u001b[39m, \u001b[38;5;241m1\u001b[39m)\n\u001b[0;32m      7\u001b[0m \u001b[38;5;66;03m# Draw the circuit\u001b[39;00m\n\u001b[0;32m      8\u001b[0m qc\u001b[38;5;241m.\u001b[39mdraw()\n",
      "\u001b[1;31mNameError\u001b[0m: name 'qc' is not defined"
     ]
    }
   ],
   "source": [
    "# Step 2, add Control Rotation (CROT) gates from most\n",
    "# significant towards\n",
    "# least significant starting a pi/2, and doubling the\n",
    "# denominator\n",
    "# as you go down each qubit.\n",
    "qc.cu1(pi/2, 0, 1)\n",
    "# Draw the circuit\n",
    "qc.draw()\n",
    "# Now that we finished from 1 down to 0\n",
    "# We'll drop to the next least significant qubit and \n",
    "# Start again"
   ]
  },
  {
   "cell_type": "code",
   "execution_count": 5,
   "id": "e96d4479",
   "metadata": {},
   "outputs": [
    {
     "ename": "NameError",
     "evalue": "name 'qc' is not defined",
     "output_type": "error",
     "traceback": [
      "\u001b[1;31m---------------------------------------------------------------------------\u001b[0m",
      "\u001b[1;31mNameError\u001b[0m                                 Traceback (most recent call last)",
      "Cell \u001b[1;32mIn[5], line 2\u001b[0m\n\u001b[0;32m      1\u001b[0m \u001b[38;5;66;03m# Step 1, add a Hadamard gate\u001b[39;00m\n\u001b[1;32m----> 2\u001b[0m qc\u001b[38;5;241m.\u001b[39mh(\u001b[38;5;241m0\u001b[39m)\n\u001b[0;32m      3\u001b[0m \u001b[38;5;66;03m# Since we are at the least significant qubit, we are\u001b[39;00m\n\u001b[0;32m      4\u001b[0m \u001b[38;5;66;03m# done!\u001b[39;00m\n\u001b[0;32m      5\u001b[0m \u001b[38;5;66;03m# Draw the circuit\u001b[39;00m\n\u001b[0;32m      6\u001b[0m qc\u001b[38;5;241m.\u001b[39mdraw()\n",
      "\u001b[1;31mNameError\u001b[0m: name 'qc' is not defined"
     ]
    }
   ],
   "source": [
    "# Step 1, add a Hadamard gate\n",
    "qc.h(0)\n",
    "# Since we are at the least significant qubit, we are\n",
    "# done!\n",
    "# Draw the circuit\n",
    "qc.draw()"
   ]
  },
  {
   "cell_type": "code",
   "execution_count": 6,
   "id": "e2aa80a0",
   "metadata": {},
   "outputs": [],
   "source": [
    "# Define a function which will add the swap gates to the \n",
    "# outer\n",
    "# pair of qubits\n",
    "def add_swap_gates(qc_swaps,qubits):\n",
    "    for qubit in range(qubits//2):\n",
    "        qc-swaps.swap(qubit, qubit-qubit-1)\n",
    "    return qc_swaps"
   ]
  },
  {
   "cell_type": "code",
   "execution_count": 7,
   "id": "f8df0cba",
   "metadata": {},
   "outputs": [
    {
     "ename": "NameError",
     "evalue": "name 'qc' is not defined",
     "output_type": "error",
     "traceback": [
      "\u001b[1;31m---------------------------------------------------------------------------\u001b[0m",
      "\u001b[1;31mNameError\u001b[0m                                 Traceback (most recent call last)",
      "Cell \u001b[1;32mIn[7], line 1\u001b[0m\n\u001b[1;32m----> 1\u001b[0m qft_circuit\u001b[38;5;241m=\u001b[39madd_swap_gates(qc, num, qubits)\n\u001b[0;32m      2\u001b[0m qft_circuit\u001b[38;5;241m.\u001b[39mdraw()\n",
      "\u001b[1;31mNameError\u001b[0m: name 'qc' is not defined"
     ]
    }
   ],
   "source": [
    "qft_circuit=add_swap_gates(qc, num, qubits)\n",
    "qft_circuit.draw()"
   ]
  },
  {
   "cell_type": "code",
   "execution_count": 8,
   "id": "a3a4f3d7",
   "metadata": {},
   "outputs": [
    {
     "ename": "NameError",
     "evalue": "name 'Aer' is not defined",
     "output_type": "error",
     "traceback": [
      "\u001b[1;31m---------------------------------------------------------------------------\u001b[0m",
      "\u001b[1;31mNameError\u001b[0m                                 Traceback (most recent call last)",
      "Cell \u001b[1;32mIn[8], line 3\u001b[0m\n\u001b[0;32m      1\u001b[0m \u001b[38;5;66;03m# Get the state vector simulator to view our final QFT\u001b[39;00m\n\u001b[0;32m      2\u001b[0m \u001b[38;5;66;03m# state\u001b[39;00m\n\u001b[1;32m----> 3\u001b[0m backend \u001b[38;5;241m=\u001b[39m Aer\u001b[38;5;241m.\u001b[39mget_backend(\u001b[38;5;124m\"\u001b[39m\u001b[38;5;124mstatevector_simulator\u001b[39m\u001b[38;5;124m\"\u001b[39m)\n\u001b[0;32m      4\u001b[0m \u001b[38;5;66;03m# Execute the QFT circuit and visualize the results\u001b[39;00m\n\u001b[0;32m      5\u001b[0m statevector \u001b[38;5;241m=\u001b[39m execute(qft_circuit,backend\u001b[38;5;241m=\u001b[39mbackend)\u001b[38;5;241m.\u001b[39mresult()\u001b[38;5;241m.\u001b[39mget_statevector()\n",
      "\u001b[1;31mNameError\u001b[0m: name 'Aer' is not defined"
     ]
    }
   ],
   "source": [
    " # Get the state vector simulator to view our final QFT\n",
    "# state\n",
    "backend = Aer.get_backend(\"statevector_simulator\")\n",
    "# Execute the QFT circuit and visualize the results\n",
    "statevector = execute(qft_circuit,backend=backend).result().get_statevector()\n",
    "plot_bloch_multivector(statevector)"
   ]
  },
  {
   "cell_type": "code",
   "execution_count": 9,
   "id": "7ecb4f41",
   "metadata": {},
   "outputs": [
    {
     "ename": "NameError",
     "evalue": "name 'plot_state_qsphere' is not defined",
     "output_type": "error",
     "traceback": [
      "\u001b[1;31m---------------------------------------------------------------------------\u001b[0m",
      "\u001b[1;31mNameError\u001b[0m                                 Traceback (most recent call last)",
      "Cell \u001b[1;32mIn[9], line 1\u001b[0m\n\u001b[1;32m----> 1\u001b[0m plot_state_qsphere(statevector)\n",
      "\u001b[1;31mNameError\u001b[0m: name 'plot_state_qsphere' is not defined"
     ]
    }
   ],
   "source": [
    "plot_state_qsphere(statevector)\n"
   ]
  }
 ],
 "metadata": {
  "kernelspec": {
   "display_name": "Python 3 (ipykernel)",
   "language": "python",
   "name": "python3"
  },
  "language_info": {
   "codemirror_mode": {
    "name": "ipython",
    "version": 3
   },
   "file_extension": ".py",
   "mimetype": "text/x-python",
   "name": "python",
   "nbconvert_exporter": "python",
   "pygments_lexer": "ipython3",
   "version": "3.12.4"
  }
 },
 "nbformat": 4,
 "nbformat_minor": 5
}
