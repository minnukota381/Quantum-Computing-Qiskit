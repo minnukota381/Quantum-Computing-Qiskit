{
 "cells": [
  {
   "cell_type": "code",
   "execution_count": 1,
   "id": "422fdf8b-310a-460c-b02a-3b3ee92c27b8",
   "metadata": {},
   "outputs": [
    {
     "name": "stdout",
     "output_type": "stream",
     "text": [
      "Requirement already satisfied: qiskit in c:\\users\\minnu\\anaconda3\\lib\\site-packages (1.1.1)\n",
      "Requirement already satisfied: rustworkx>=0.14.0 in c:\\users\\minnu\\anaconda3\\lib\\site-packages (from qiskit) (0.15.1)\n",
      "Requirement already satisfied: numpy<3,>=1.17 in c:\\users\\minnu\\anaconda3\\lib\\site-packages (from qiskit) (1.26.4)\n",
      "Requirement already satisfied: scipy>=1.5 in c:\\users\\minnu\\appdata\\roaming\\python\\python312\\site-packages (from qiskit) (1.13.1)\n",
      "Requirement already satisfied: sympy>=1.3 in c:\\users\\minnu\\appdata\\roaming\\python\\python312\\site-packages (from qiskit) (1.12.1)\n",
      "Requirement already satisfied: dill>=0.3 in c:\\users\\minnu\\anaconda3\\lib\\site-packages (from qiskit) (0.3.8)\n",
      "Requirement already satisfied: python-dateutil>=2.8.0 in c:\\users\\minnu\\anaconda3\\lib\\site-packages (from qiskit) (2.9.0.post0)\n",
      "Requirement already satisfied: stevedore>=3.0.0 in c:\\users\\minnu\\anaconda3\\lib\\site-packages (from qiskit) (5.2.0)\n",
      "Requirement already satisfied: typing-extensions in c:\\users\\minnu\\anaconda3\\lib\\site-packages (from qiskit) (4.11.0)\n",
      "Requirement already satisfied: symengine>=0.11 in c:\\users\\minnu\\anaconda3\\lib\\site-packages (from qiskit) (0.11.0)\n",
      "Requirement already satisfied: six>=1.5 in c:\\users\\minnu\\anaconda3\\lib\\site-packages (from python-dateutil>=2.8.0->qiskit) (1.16.0)\n",
      "Requirement already satisfied: pbr!=2.1.0,>=2.0.0 in c:\\users\\minnu\\anaconda3\\lib\\site-packages (from stevedore>=3.0.0->qiskit) (6.0.0)\n",
      "Requirement already satisfied: mpmath<1.4.0,>=1.1.0 in c:\\users\\minnu\\appdata\\roaming\\python\\python312\\site-packages (from sympy>=1.3->qiskit) (1.3.0)\n",
      "Note: you may need to restart the kernel to use updated packages.\n"
     ]
    },
    {
     "name": "stderr",
     "output_type": "stream",
     "text": [
      "\n",
      "[notice] A new release of pip is available: 24.0 -> 24.1.1\n",
      "[notice] To update, run: python.exe -m pip install --upgrade pip\n"
     ]
    }
   ],
   "source": [
    "pip install qiskit"
   ]
  },
  {
   "cell_type": "code",
   "execution_count": 2,
   "id": "f397aa5f-b5e9-4d36-bb66-2a04705ae570",
   "metadata": {},
   "outputs": [
    {
     "name": "stdout",
     "output_type": "stream",
     "text": [
      "Requirement already satisfied: qiskit-ibm-provider in c:\\users\\minnu\\anaconda3\\lib\\site-packages (0.11.0)\n",
      "Requirement already satisfied: qiskit-ibm-runtime in c:\\users\\minnu\\anaconda3\\lib\\site-packages (0.25.0)\n",
      "Requirement already satisfied: qiskit>=0.45.0 in c:\\users\\minnu\\anaconda3\\lib\\site-packages (from qiskit-ibm-provider) (1.1.1)\n",
      "Requirement already satisfied: requests>=2.19 in c:\\users\\minnu\\anaconda3\\lib\\site-packages (from qiskit-ibm-provider) (2.32.2)\n",
      "Requirement already satisfied: requests-ntlm>=1.1.0 in c:\\users\\minnu\\anaconda3\\lib\\site-packages (from qiskit-ibm-provider) (1.3.0)\n",
      "Requirement already satisfied: numpy>=1.13 in c:\\users\\minnu\\anaconda3\\lib\\site-packages (from qiskit-ibm-provider) (1.26.4)\n",
      "Requirement already satisfied: urllib3>=1.21.1 in c:\\users\\minnu\\anaconda3\\lib\\site-packages (from qiskit-ibm-provider) (2.2.2)\n",
      "Requirement already satisfied: python-dateutil>=2.8.0 in c:\\users\\minnu\\anaconda3\\lib\\site-packages (from qiskit-ibm-provider) (2.9.0.post0)\n",
      "Requirement already satisfied: websocket-client>=1.5.1 in c:\\users\\minnu\\anaconda3\\lib\\site-packages (from qiskit-ibm-provider) (1.8.0)\n",
      "Requirement already satisfied: websockets>=10.0 in c:\\users\\minnu\\anaconda3\\lib\\site-packages (from qiskit-ibm-provider) (12.0)\n",
      "Requirement already satisfied: typing-extensions>=4.3 in c:\\users\\minnu\\anaconda3\\lib\\site-packages (from qiskit-ibm-provider) (4.11.0)\n",
      "Requirement already satisfied: ibm-platform-services>=0.22.6 in c:\\users\\minnu\\anaconda3\\lib\\site-packages (from qiskit-ibm-runtime) (0.54.2)\n",
      "Requirement already satisfied: pydantic>=2.5.0 in c:\\users\\minnu\\anaconda3\\lib\\site-packages (from qiskit-ibm-runtime) (2.5.3)\n",
      "Requirement already satisfied: ibm-cloud-sdk-core<4.0.0,>=3.19.2 in c:\\users\\minnu\\anaconda3\\lib\\site-packages (from ibm-platform-services>=0.22.6->qiskit-ibm-runtime) (3.20.1)\n",
      "Requirement already satisfied: annotated-types>=0.4.0 in c:\\users\\minnu\\anaconda3\\lib\\site-packages (from pydantic>=2.5.0->qiskit-ibm-runtime) (0.6.0)\n",
      "Requirement already satisfied: pydantic-core==2.14.6 in c:\\users\\minnu\\anaconda3\\lib\\site-packages (from pydantic>=2.5.0->qiskit-ibm-runtime) (2.14.6)\n",
      "Requirement already satisfied: six>=1.5 in c:\\users\\minnu\\anaconda3\\lib\\site-packages (from python-dateutil>=2.8.0->qiskit-ibm-provider) (1.16.0)\n",
      "Requirement already satisfied: rustworkx>=0.14.0 in c:\\users\\minnu\\anaconda3\\lib\\site-packages (from qiskit>=0.45.0->qiskit-ibm-provider) (0.15.1)\n",
      "Requirement already satisfied: scipy>=1.5 in c:\\users\\minnu\\appdata\\roaming\\python\\python312\\site-packages (from qiskit>=0.45.0->qiskit-ibm-provider) (1.13.1)\n",
      "Requirement already satisfied: sympy>=1.3 in c:\\users\\minnu\\appdata\\roaming\\python\\python312\\site-packages (from qiskit>=0.45.0->qiskit-ibm-provider) (1.12.1)\n",
      "Requirement already satisfied: dill>=0.3 in c:\\users\\minnu\\anaconda3\\lib\\site-packages (from qiskit>=0.45.0->qiskit-ibm-provider) (0.3.8)\n",
      "Requirement already satisfied: stevedore>=3.0.0 in c:\\users\\minnu\\anaconda3\\lib\\site-packages (from qiskit>=0.45.0->qiskit-ibm-provider) (5.2.0)\n",
      "Requirement already satisfied: symengine>=0.11 in c:\\users\\minnu\\anaconda3\\lib\\site-packages (from qiskit>=0.45.0->qiskit-ibm-provider) (0.11.0)\n",
      "Requirement already satisfied: charset-normalizer<4,>=2 in c:\\users\\minnu\\anaconda3\\lib\\site-packages (from requests>=2.19->qiskit-ibm-provider) (2.0.4)\n",
      "Requirement already satisfied: idna<4,>=2.5 in c:\\users\\minnu\\anaconda3\\lib\\site-packages (from requests>=2.19->qiskit-ibm-provider) (3.7)\n",
      "Requirement already satisfied: certifi>=2017.4.17 in c:\\users\\minnu\\anaconda3\\lib\\site-packages (from requests>=2.19->qiskit-ibm-provider) (2024.6.2)\n",
      "Requirement already satisfied: cryptography>=1.3 in c:\\users\\minnu\\anaconda3\\lib\\site-packages (from requests-ntlm>=1.1.0->qiskit-ibm-provider) (42.0.5)\n",
      "Requirement already satisfied: pyspnego>=0.4.0 in c:\\users\\minnu\\anaconda3\\lib\\site-packages (from requests-ntlm>=1.1.0->qiskit-ibm-provider) (0.11.0)\n",
      "Requirement already satisfied: cffi>=1.12 in c:\\users\\minnu\\anaconda3\\lib\\site-packages (from cryptography>=1.3->requests-ntlm>=1.1.0->qiskit-ibm-provider) (1.16.0)\n",
      "Requirement already satisfied: PyJWT<3.0.0,>=2.8.0 in c:\\users\\minnu\\anaconda3\\lib\\site-packages (from ibm-cloud-sdk-core<4.0.0,>=3.19.2->ibm-platform-services>=0.22.6->qiskit-ibm-runtime) (2.8.0)\n",
      "Requirement already satisfied: sspilib>=0.1.0 in c:\\users\\minnu\\anaconda3\\lib\\site-packages (from pyspnego>=0.4.0->requests-ntlm>=1.1.0->qiskit-ibm-provider) (0.1.0)\n",
      "Requirement already satisfied: pbr!=2.1.0,>=2.0.0 in c:\\users\\minnu\\anaconda3\\lib\\site-packages (from stevedore>=3.0.0->qiskit>=0.45.0->qiskit-ibm-provider) (6.0.0)\n",
      "Requirement already satisfied: mpmath<1.4.0,>=1.1.0 in c:\\users\\minnu\\appdata\\roaming\\python\\python312\\site-packages (from sympy>=1.3->qiskit>=0.45.0->qiskit-ibm-provider) (1.3.0)\n",
      "Requirement already satisfied: pycparser in c:\\users\\minnu\\anaconda3\\lib\\site-packages (from cffi>=1.12->cryptography>=1.3->requests-ntlm>=1.1.0->qiskit-ibm-provider) (2.21)\n",
      "Note: you may need to restart the kernel to use updated packages.\n"
     ]
    },
    {
     "name": "stderr",
     "output_type": "stream",
     "text": [
      "\n",
      "[notice] A new release of pip is available: 24.0 -> 24.1.1\n",
      "[notice] To update, run: python.exe -m pip install --upgrade pip\n"
     ]
    }
   ],
   "source": [
    "pip install qiskit-ibm-provider qiskit-ibm-runtime\n"
   ]
  },
  {
   "cell_type": "code",
   "execution_count": 3,
   "id": "819cff5f",
   "metadata": {},
   "outputs": [],
   "source": [
    "from qiskit import *"
   ]
  },
  {
   "cell_type": "code",
   "execution_count": 4,
   "id": "a12175e8",
   "metadata": {},
   "outputs": [
    {
     "ename": "ImportError",
     "evalue": "cannot import name 'IBMQ' from 'qiskit' (C:\\Users\\Minnu\\anaconda3\\Lib\\site-packages\\qiskit\\__init__.py)",
     "output_type": "error",
     "traceback": [
      "\u001b[1;31m---------------------------------------------------------------------------\u001b[0m",
      "\u001b[1;31mImportError\u001b[0m                               Traceback (most recent call last)",
      "Cell \u001b[1;32mIn[4], line 1\u001b[0m\n\u001b[1;32m----> 1\u001b[0m \u001b[38;5;28;01mfrom\u001b[39;00m \u001b[38;5;21;01mqiskit\u001b[39;00m \u001b[38;5;28;01mimport\u001b[39;00m IBMQ\n",
      "\u001b[1;31mImportError\u001b[0m: cannot import name 'IBMQ' from 'qiskit' (C:\\Users\\Minnu\\anaconda3\\Lib\\site-packages\\qiskit\\__init__.py)"
     ]
    }
   ],
   "source": [
    "from qiskit import IBMQ"
   ]
  },
  {
   "cell_type": "code",
   "execution_count": null,
   "id": "92ff77f4",
   "metadata": {},
   "outputs": [],
   "source": [
    "IBMQ.save_account('fb335ef56b1d6d43894ad997ae54daf329de8050cda1e2e7a795f9bcae2da2e84ad903bd320d6e1354214371bcf9af7a80c1ccc1e0a546947469913805528928')"
   ]
  },
  {
   "cell_type": "code",
   "execution_count": null,
   "id": "4bd57326",
   "metadata": {},
   "outputs": [],
   "source": [
    "IBMQ.load_account()"
   ]
  },
  {
   "cell_type": "code",
   "execution_count": null,
   "id": "b48cf0bd",
   "metadata": {},
   "outputs": [],
   "source": [
    "qr = QuantumRegister(2)"
   ]
  },
  {
   "cell_type": "code",
   "execution_count": null,
   "id": "c998a133",
   "metadata": {},
   "outputs": [],
   "source": [
    "cr =ClassicalRegister(2)"
   ]
  },
  {
   "cell_type": "code",
   "execution_count": null,
   "id": "859f9043",
   "metadata": {},
   "outputs": [],
   "source": [
    "circuit = QuantumCircuit(qr,cr)"
   ]
  },
  {
   "cell_type": "code",
   "execution_count": null,
   "id": "e66b33b8",
   "metadata": {},
   "outputs": [],
   "source": [
    "%matplotlib inline"
   ]
  },
  {
   "cell_type": "markdown",
   "id": "b3dc52c3",
   "metadata": {},
   "source": [
    "## Kavya's First Circuit"
   ]
  },
  {
   "cell_type": "code",
   "execution_count": null,
   "id": "7706c9a0",
   "metadata": {},
   "outputs": [],
   "source": [
    "circuit.h(qr[0])\n",
    "circuit.x(qr[0])"
   ]
  },
  {
   "cell_type": "code",
   "execution_count": null,
   "id": "a0d7bf2c",
   "metadata": {},
   "outputs": [],
   "source": [
    "circuit.measure(qr[0],cr[0])"
   ]
  },
  {
   "cell_type": "code",
   "execution_count": null,
   "id": "e0f9b616",
   "metadata": {},
   "outputs": [],
   "source": [
    "circuit.draw(output=\"mpl\")"
   ]
  },
  {
   "cell_type": "code",
   "execution_count": null,
   "id": "f75340ff",
   "metadata": {},
   "outputs": [],
   "source": []
  }
 ],
 "metadata": {
  "kernelspec": {
   "display_name": "Python 3 (ipykernel)",
   "language": "python",
   "name": "python3"
  },
  "language_info": {
   "codemirror_mode": {
    "name": "ipython",
    "version": 3
   },
   "file_extension": ".py",
   "mimetype": "text/x-python",
   "name": "python",
   "nbconvert_exporter": "python",
   "pygments_lexer": "ipython3",
   "version": "3.12.4"
  }
 },
 "nbformat": 4,
 "nbformat_minor": 5
}
