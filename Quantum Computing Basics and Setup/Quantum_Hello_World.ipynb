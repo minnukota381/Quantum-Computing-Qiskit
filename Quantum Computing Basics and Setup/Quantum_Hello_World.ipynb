{
 "cells": [
  {
   "cell_type": "code",
   "execution_count": 1,
   "id": "422fdf8b-310a-460c-b02a-3b3ee92c27b8",
   "metadata": {},
   "outputs": [
    {
     "name": "stdout",
     "output_type": "stream",
     "text": [
      "Requirement already satisfied: qiskit in c:\\users\\minnu\\anaconda3\\envs\\qiskit-env\\lib\\site-packages (1.1.1)\n",
      "Requirement already satisfied: rustworkx>=0.14.0 in c:\\users\\minnu\\anaconda3\\envs\\qiskit-env\\lib\\site-packages (from qiskit) (0.15.1)\n",
      "Requirement already satisfied: numpy<3,>=1.17 in c:\\users\\minnu\\anaconda3\\envs\\qiskit-env\\lib\\site-packages (from qiskit) (2.0.1)\n",
      "Requirement already satisfied: scipy>=1.5 in c:\\users\\minnu\\anaconda3\\envs\\qiskit-env\\lib\\site-packages (from qiskit) (1.13.1)\n",
      "Requirement already satisfied: sympy>=1.3 in c:\\users\\minnu\\anaconda3\\envs\\qiskit-env\\lib\\site-packages (from qiskit) (1.13.1)\n",
      "Requirement already satisfied: dill>=0.3 in c:\\users\\minnu\\anaconda3\\envs\\qiskit-env\\lib\\site-packages (from qiskit) (0.3.8)\n",
      "Requirement already satisfied: python-dateutil>=2.8.0 in c:\\users\\minnu\\anaconda3\\envs\\qiskit-env\\lib\\site-packages (from qiskit) (2.9.0.post0)\n",
      "Requirement already satisfied: stevedore>=3.0.0 in c:\\users\\minnu\\anaconda3\\envs\\qiskit-env\\lib\\site-packages (from qiskit) (5.2.0)\n",
      "Requirement already satisfied: typing-extensions in c:\\users\\minnu\\anaconda3\\envs\\qiskit-env\\lib\\site-packages (from qiskit) (4.11.0)\n",
      "Requirement already satisfied: symengine>=0.11 in c:\\users\\minnu\\anaconda3\\envs\\qiskit-env\\lib\\site-packages (from qiskit) (0.11.0)\n",
      "Requirement already satisfied: six>=1.5 in c:\\users\\minnu\\anaconda3\\envs\\qiskit-env\\lib\\site-packages (from python-dateutil>=2.8.0->qiskit) (1.16.0)\n",
      "Requirement already satisfied: pbr!=2.1.0,>=2.0.0 in c:\\users\\minnu\\anaconda3\\envs\\qiskit-env\\lib\\site-packages (from stevedore>=3.0.0->qiskit) (6.0.0)\n",
      "Requirement already satisfied: mpmath<1.4,>=1.1.0 in c:\\users\\minnu\\anaconda3\\envs\\qiskit-env\\lib\\site-packages (from sympy>=1.3->qiskit) (1.3.0)\n",
      "Note: you may need to restart the kernel to use updated packages.\n"
     ]
    }
   ],
   "source": [
    "pip install qiskit"
   ]
  },
  {
   "cell_type": "code",
   "execution_count": 2,
   "id": "f397aa5f-b5e9-4d36-bb66-2a04705ae570",
   "metadata": {},
   "outputs": [
    {
     "name": "stdout",
     "output_type": "stream",
     "text": [
      "Collecting qiskit-ibm-providerNote: you may need to restart the kernel to use updated packages.\n",
      "\n",
      "  Using cached qiskit_ibm_provider-0.11.0-py3-none-any.whl.metadata (7.6 kB)\n",
      "Collecting qiskit-ibm-runtime\n",
      "  Using cached qiskit_ibm_runtime-0.25.0-py3-none-any.whl.metadata (19 kB)\n",
      "Requirement already satisfied: qiskit>=0.45.0 in c:\\users\\minnu\\anaconda3\\envs\\qiskit-env\\lib\\site-packages (from qiskit-ibm-provider) (1.1.1)\n",
      "Requirement already satisfied: requests>=2.19 in c:\\users\\minnu\\anaconda3\\envs\\qiskit-env\\lib\\site-packages (from qiskit-ibm-provider) (2.32.3)\n",
      "Collecting requests-ntlm>=1.1.0 (from qiskit-ibm-provider)\n",
      "  Using cached requests_ntlm-1.3.0-py3-none-any.whl.metadata (2.4 kB)\n",
      "Requirement already satisfied: numpy>=1.13 in c:\\users\\minnu\\anaconda3\\envs\\qiskit-env\\lib\\site-packages (from qiskit-ibm-provider) (2.0.1)\n",
      "Requirement already satisfied: urllib3>=1.21.1 in c:\\users\\minnu\\anaconda3\\envs\\qiskit-env\\lib\\site-packages (from qiskit-ibm-provider) (2.2.2)\n",
      "Requirement already satisfied: python-dateutil>=2.8.0 in c:\\users\\minnu\\anaconda3\\envs\\qiskit-env\\lib\\site-packages (from qiskit-ibm-provider) (2.9.0.post0)\n",
      "Requirement already satisfied: websocket-client>=1.5.1 in c:\\users\\minnu\\anaconda3\\envs\\qiskit-env\\lib\\site-packages (from qiskit-ibm-provider) (1.8.0)\n",
      "Collecting websockets>=10.0 (from qiskit-ibm-provider)\n",
      "  Downloading websockets-12.0-cp39-cp39-win_amd64.whl.metadata (6.8 kB)\n",
      "Requirement already satisfied: typing-extensions>=4.3 in c:\\users\\minnu\\anaconda3\\envs\\qiskit-env\\lib\\site-packages (from qiskit-ibm-provider) (4.11.0)\n",
      "Collecting ibm-platform-services>=0.22.6 (from qiskit-ibm-runtime)\n",
      "  Using cached ibm-platform-services-0.55.1.tar.gz (323 kB)\n",
      "  Installing build dependencies: started\n",
      "  Installing build dependencies: finished with status 'done'\n",
      "  Getting requirements to build wheel: started\n",
      "  Getting requirements to build wheel: finished with status 'done'\n",
      "  Preparing metadata (pyproject.toml): started\n",
      "  Preparing metadata (pyproject.toml): finished with status 'done'\n",
      "Collecting pydantic>=2.5.0 (from qiskit-ibm-runtime)\n",
      "  Using cached pydantic-2.8.2-py3-none-any.whl.metadata (125 kB)\n",
      "Collecting ibm-cloud-sdk-core<4.0.0,>=3.20.3 (from ibm-platform-services>=0.22.6->qiskit-ibm-runtime)\n",
      "  Using cached ibm-cloud-sdk-core-3.20.3.tar.gz (62 kB)\n",
      "  Installing build dependencies: started\n",
      "  Installing build dependencies: finished with status 'done'\n",
      "  Getting requirements to build wheel: started\n",
      "  Getting requirements to build wheel: finished with status 'done'\n",
      "  Preparing metadata (pyproject.toml): started\n",
      "  Preparing metadata (pyproject.toml): finished with status 'done'\n",
      "Collecting annotated-types>=0.4.0 (from pydantic>=2.5.0->qiskit-ibm-runtime)\n",
      "  Using cached annotated_types-0.7.0-py3-none-any.whl.metadata (15 kB)\n",
      "Collecting pydantic-core==2.20.1 (from pydantic>=2.5.0->qiskit-ibm-runtime)\n",
      "  Downloading pydantic_core-2.20.1-cp39-none-win_amd64.whl.metadata (6.7 kB)\n",
      "Requirement already satisfied: six>=1.5 in c:\\users\\minnu\\anaconda3\\envs\\qiskit-env\\lib\\site-packages (from python-dateutil>=2.8.0->qiskit-ibm-provider) (1.16.0)\n",
      "Requirement already satisfied: rustworkx>=0.14.0 in c:\\users\\minnu\\anaconda3\\envs\\qiskit-env\\lib\\site-packages (from qiskit>=0.45.0->qiskit-ibm-provider) (0.15.1)\n",
      "Requirement already satisfied: scipy>=1.5 in c:\\users\\minnu\\anaconda3\\envs\\qiskit-env\\lib\\site-packages (from qiskit>=0.45.0->qiskit-ibm-provider) (1.13.1)\n",
      "Requirement already satisfied: sympy>=1.3 in c:\\users\\minnu\\anaconda3\\envs\\qiskit-env\\lib\\site-packages (from qiskit>=0.45.0->qiskit-ibm-provider) (1.13.1)\n",
      "Requirement already satisfied: dill>=0.3 in c:\\users\\minnu\\anaconda3\\envs\\qiskit-env\\lib\\site-packages (from qiskit>=0.45.0->qiskit-ibm-provider) (0.3.8)\n",
      "Requirement already satisfied: stevedore>=3.0.0 in c:\\users\\minnu\\anaconda3\\envs\\qiskit-env\\lib\\site-packages (from qiskit>=0.45.0->qiskit-ibm-provider) (5.2.0)\n",
      "Requirement already satisfied: symengine>=0.11 in c:\\users\\minnu\\anaconda3\\envs\\qiskit-env\\lib\\site-packages (from qiskit>=0.45.0->qiskit-ibm-provider) (0.11.0)\n",
      "Requirement already satisfied: charset-normalizer<4,>=2 in c:\\users\\minnu\\anaconda3\\envs\\qiskit-env\\lib\\site-packages (from requests>=2.19->qiskit-ibm-provider) (3.3.2)\n",
      "Requirement already satisfied: idna<4,>=2.5 in c:\\users\\minnu\\anaconda3\\envs\\qiskit-env\\lib\\site-packages (from requests>=2.19->qiskit-ibm-provider) (3.7)\n",
      "Requirement already satisfied: certifi>=2017.4.17 in c:\\users\\minnu\\anaconda3\\envs\\qiskit-env\\lib\\site-packages (from requests>=2.19->qiskit-ibm-provider) (2024.7.4)\n",
      "Collecting cryptography>=1.3 (from requests-ntlm>=1.1.0->qiskit-ibm-provider)\n",
      "  Downloading cryptography-43.0.0-cp39-abi3-win_amd64.whl.metadata (5.4 kB)\n",
      "Collecting pyspnego>=0.4.0 (from requests-ntlm>=1.1.0->qiskit-ibm-provider)\n",
      "  Using cached pyspnego-0.11.1-py3-none-any.whl.metadata (5.4 kB)\n",
      "Requirement already satisfied: cffi>=1.12 in c:\\users\\minnu\\anaconda3\\envs\\qiskit-env\\lib\\site-packages (from cryptography>=1.3->requests-ntlm>=1.1.0->qiskit-ibm-provider) (1.16.0)\n",
      "Collecting PyJWT<3.0.0,>=2.8.0 (from ibm-cloud-sdk-core<4.0.0,>=3.20.3->ibm-platform-services>=0.22.6->qiskit-ibm-runtime)\n",
      "  Using cached PyJWT-2.8.0-py3-none-any.whl.metadata (4.2 kB)\n",
      "Collecting sspilib>=0.1.0 (from pyspnego>=0.4.0->requests-ntlm>=1.1.0->qiskit-ibm-provider)\n",
      "  Downloading sspilib-0.1.0-cp39-cp39-win_amd64.whl.metadata (7.4 kB)\n",
      "Requirement already satisfied: pbr!=2.1.0,>=2.0.0 in c:\\users\\minnu\\anaconda3\\envs\\qiskit-env\\lib\\site-packages (from stevedore>=3.0.0->qiskit>=0.45.0->qiskit-ibm-provider) (6.0.0)\n",
      "Requirement already satisfied: mpmath<1.4,>=1.1.0 in c:\\users\\minnu\\anaconda3\\envs\\qiskit-env\\lib\\site-packages (from sympy>=1.3->qiskit>=0.45.0->qiskit-ibm-provider) (1.3.0)\n",
      "Requirement already satisfied: pycparser in c:\\users\\minnu\\anaconda3\\envs\\qiskit-env\\lib\\site-packages (from cffi>=1.12->cryptography>=1.3->requests-ntlm>=1.1.0->qiskit-ibm-provider) (2.21)\n",
      "Using cached qiskit_ibm_provider-0.11.0-py3-none-any.whl (249 kB)\n",
      "Using cached qiskit_ibm_runtime-0.25.0-py3-none-any.whl (2.9 MB)\n",
      "Using cached pydantic-2.8.2-py3-none-any.whl (423 kB)\n",
      "Downloading pydantic_core-2.20.1-cp39-none-win_amd64.whl (1.9 MB)\n",
      "   ---------------------------------------- 0.0/1.9 MB ? eta -:--:--\n",
      "    --------------------------------------- 0.0/1.9 MB 1.3 MB/s eta 0:00:02\n",
      "    --------------------------------------- 0.0/1.9 MB 495.5 kB/s eta 0:00:04\n",
      "   - -------------------------------------- 0.1/1.9 MB 751.6 kB/s eta 0:00:03\n",
      "   -- ------------------------------------- 0.1/1.9 MB 726.2 kB/s eta 0:00:03\n",
      "   --- ------------------------------------ 0.1/1.9 MB 711.9 kB/s eta 0:00:03\n",
      "   ---- ----------------------------------- 0.2/1.9 MB 831.5 kB/s eta 0:00:03\n",
      "   ---- ----------------------------------- 0.2/1.9 MB 875.2 kB/s eta 0:00:02\n",
      "   ------ --------------------------------- 0.3/1.9 MB 874.1 kB/s eta 0:00:02\n",
      "   ------ --------------------------------- 0.3/1.9 MB 893.0 kB/s eta 0:00:02\n",
      "   -------- ------------------------------- 0.4/1.9 MB 958.4 kB/s eta 0:00:02\n",
      "   --------- ------------------------------ 0.5/1.9 MB 994.6 kB/s eta 0:00:02\n",
      "   ---------- ----------------------------- 0.5/1.9 MB 1.0 MB/s eta 0:00:02\n",
      "   ----------- ---------------------------- 0.6/1.9 MB 1.0 MB/s eta 0:00:02\n",
      "   ------------ --------------------------- 0.6/1.9 MB 1.0 MB/s eta 0:00:02\n",
      "   ------------- -------------------------- 0.6/1.9 MB 1.0 MB/s eta 0:00:02\n",
      "   -------------- ------------------------- 0.7/1.9 MB 1.0 MB/s eta 0:00:02\n",
      "   --------------- ------------------------ 0.7/1.9 MB 1.0 MB/s eta 0:00:02\n",
      "   ---------------- ----------------------- 0.8/1.9 MB 1.1 MB/s eta 0:00:02\n",
      "   ----------------- ---------------------- 0.8/1.9 MB 1.1 MB/s eta 0:00:01\n",
      "   ------------------- -------------------- 0.9/1.9 MB 1.1 MB/s eta 0:00:01\n",
      "   -------------------- ------------------- 1.0/1.9 MB 1.2 MB/s eta 0:00:01\n",
      "   --------------------- ------------------ 1.0/1.9 MB 1.2 MB/s eta 0:00:01\n",
      "   ---------------------- ----------------- 1.1/1.9 MB 1.1 MB/s eta 0:00:01\n",
      "   ----------------------- ---------------- 1.1/1.9 MB 1.1 MB/s eta 0:00:01\n",
      "   ------------------------- -------------- 1.2/1.9 MB 1.2 MB/s eta 0:00:01\n",
      "   -------------------------- ------------- 1.3/1.9 MB 1.2 MB/s eta 0:00:01\n",
      "   ---------------------------- ----------- 1.4/1.9 MB 1.2 MB/s eta 0:00:01\n",
      "   ------------------------------ --------- 1.4/1.9 MB 1.3 MB/s eta 0:00:01\n",
      "   ------------------------------- -------- 1.5/1.9 MB 1.3 MB/s eta 0:00:01\n",
      "   ---------------------------------- ----- 1.6/1.9 MB 1.3 MB/s eta 0:00:01\n",
      "   ----------------------------------- ---- 1.7/1.9 MB 1.3 MB/s eta 0:00:01\n",
      "   -------------------------------------- - 1.8/1.9 MB 1.4 MB/s eta 0:00:01\n",
      "   -------------------------------------- - 1.8/1.9 MB 1.3 MB/s eta 0:00:01\n",
      "   ---------------------------------------- 1.9/1.9 MB 1.3 MB/s eta 0:00:00\n",
      "Using cached requests_ntlm-1.3.0-py3-none-any.whl (6.6 kB)\n",
      "Downloading websockets-12.0-cp39-cp39-win_amd64.whl (124 kB)\n",
      "   ---------------------------------------- 0.0/125.0 kB ? eta -:--:--\n",
      "   ---------------------------------------  122.9/125.0 kB 3.6 MB/s eta 0:00:01\n",
      "   ---------------------------------------- 125.0/125.0 kB 2.5 MB/s eta 0:00:00\n",
      "Using cached annotated_types-0.7.0-py3-none-any.whl (13 kB)\n",
      "Downloading cryptography-43.0.0-cp39-abi3-win_amd64.whl (3.1 MB)\n",
      "   ---------------------------------------- 0.0/3.1 MB ? eta -:--:--\n",
      "   - -------------------------------------- 0.1/3.1 MB 3.6 MB/s eta 0:00:01\n",
      "   -- ------------------------------------- 0.2/3.1 MB 2.9 MB/s eta 0:00:01\n",
      "   -- ------------------------------------- 0.2/3.1 MB 1.6 MB/s eta 0:00:02\n",
      "   ---- ----------------------------------- 0.3/3.1 MB 2.1 MB/s eta 0:00:02\n",
      "   ----- ---------------------------------- 0.4/3.1 MB 2.0 MB/s eta 0:00:02\n",
      "   ------ --------------------------------- 0.5/3.1 MB 2.1 MB/s eta 0:00:02\n",
      "   ------- -------------------------------- 0.6/3.1 MB 2.0 MB/s eta 0:00:02\n",
      "   -------- ------------------------------- 0.7/3.1 MB 2.1 MB/s eta 0:00:02\n",
      "   --------- ------------------------------ 0.7/3.1 MB 2.0 MB/s eta 0:00:02\n",
      "   ----------- ---------------------------- 0.9/3.1 MB 2.1 MB/s eta 0:00:02\n",
      "   ------------ --------------------------- 1.0/3.1 MB 2.1 MB/s eta 0:00:02\n",
      "   ------------- -------------------------- 1.0/3.1 MB 2.1 MB/s eta 0:00:01\n",
      "   --------------- ------------------------ 1.2/3.1 MB 2.2 MB/s eta 0:00:01\n",
      "   ---------------- ----------------------- 1.2/3.1 MB 2.2 MB/s eta 0:00:01\n",
      "   ----------------- ---------------------- 1.4/3.1 MB 2.2 MB/s eta 0:00:01\n",
      "   ------------------- -------------------- 1.5/3.1 MB 2.3 MB/s eta 0:00:01\n",
      "   --------------------- ------------------ 1.6/3.1 MB 2.3 MB/s eta 0:00:01\n",
      "   ---------------------- ----------------- 1.8/3.1 MB 2.4 MB/s eta 0:00:01\n",
      "   ------------------------ --------------- 1.9/3.1 MB 2.4 MB/s eta 0:00:01\n",
      "   ------------------------ --------------- 1.9/3.1 MB 2.3 MB/s eta 0:00:01\n",
      "   -------------------------- ------------- 2.0/3.1 MB 2.4 MB/s eta 0:00:01\n",
      "   ---------------------------- ----------- 2.2/3.1 MB 2.4 MB/s eta 0:00:01\n",
      "   ----------------------------- ---------- 2.3/3.1 MB 2.4 MB/s eta 0:00:01\n",
      "   ------------------------------- -------- 2.4/3.1 MB 2.5 MB/s eta 0:00:01\n",
      "   ------------------------------- -------- 2.4/3.1 MB 2.4 MB/s eta 0:00:01\n",
      "   ------------------------------- -------- 2.4/3.1 MB 2.4 MB/s eta 0:00:01\n",
      "   -------------------------------- ------- 2.5/3.1 MB 2.3 MB/s eta 0:00:01\n",
      "   ---------------------------------- ----- 2.7/3.1 MB 2.4 MB/s eta 0:00:01\n",
      "   ------------------------------------ --- 2.8/3.1 MB 2.4 MB/s eta 0:00:01\n",
      "   ------------------------------------ --- 2.8/3.1 MB 2.4 MB/s eta 0:00:01\n",
      "   -------------------------------------- - 3.0/3.1 MB 2.3 MB/s eta 0:00:01\n",
      "   ---------------------------------------- 3.1/3.1 MB 2.4 MB/s eta 0:00:00\n",
      "Using cached pyspnego-0.11.1-py3-none-any.whl (130 kB)\n",
      "Using cached PyJWT-2.8.0-py3-none-any.whl (22 kB)\n",
      "Downloading sspilib-0.1.0-cp39-cp39-win_amd64.whl (568 kB)\n",
      "   ---------------------------------------- 0.0/568.8 kB ? eta -:--:--\n",
      "   ------------ --------------------------- 184.3/568.8 kB 3.7 MB/s eta 0:00:01\n",
      "   ------------------------- -------------- 358.4/568.8 kB 3.7 MB/s eta 0:00:01\n",
      "   --------------------------- ------------ 389.1/568.8 kB 4.0 MB/s eta 0:00:01\n",
      "   -------------------------------------- - 542.7/568.8 kB 3.1 MB/s eta 0:00:01\n",
      "   ---------------------------------------- 568.8/568.8 kB 3.0 MB/s eta 0:00:00\n",
      "Building wheels for collected packages: ibm-platform-services, ibm-cloud-sdk-core\n",
      "  Building wheel for ibm-platform-services (pyproject.toml): started\n",
      "  Building wheel for ibm-platform-services (pyproject.toml): finished with status 'done'\n",
      "  Created wheel for ibm-platform-services: filename=ibm_platform_services-0.55.1-py3-none-any.whl size=339712 sha256=e3e0f878c4034b1c45f85f2b2da42d5e550149ee19059fcd5439af8ccfafb694\n",
      "  Stored in directory: c:\\users\\minnu\\appdata\\local\\pip\\cache\\wheels\\86\\fb\\b1\\48cbacb5c96124b4781b405b9d715fcb2d43a70933e74c4ad6\n",
      "  Building wheel for ibm-cloud-sdk-core (pyproject.toml): started\n",
      "  Building wheel for ibm-cloud-sdk-core (pyproject.toml): finished with status 'done'\n",
      "  Created wheel for ibm-cloud-sdk-core: filename=ibm_cloud_sdk_core-3.20.3-py3-none-any.whl size=102582 sha256=ed37876362d18593f4b713af8852095d2286367617a7104a49156229bfc51dfb\n",
      "  Stored in directory: c:\\users\\minnu\\appdata\\local\\pip\\cache\\wheels\\19\\96\\fc\\e38359e31aff4010f98570de17126b89a7be99ea6f24289b29\n",
      "Successfully built ibm-platform-services ibm-cloud-sdk-core\n",
      "Installing collected packages: websockets, sspilib, PyJWT, pydantic-core, annotated-types, pydantic, ibm-cloud-sdk-core, cryptography, pyspnego, ibm-platform-services, requests-ntlm, qiskit-ibm-runtime, qiskit-ibm-provider\n",
      "Successfully installed PyJWT-2.8.0 annotated-types-0.7.0 cryptography-43.0.0 ibm-cloud-sdk-core-3.20.3 ibm-platform-services-0.55.1 pydantic-2.8.2 pydantic-core-2.20.1 pyspnego-0.11.1 qiskit-ibm-provider-0.11.0 qiskit-ibm-runtime-0.25.0 requests-ntlm-1.3.0 sspilib-0.1.0 websockets-12.0\n"
     ]
    }
   ],
   "source": [
    "pip install qiskit-ibm-provider qiskit-ibm-runtime\n"
   ]
  },
  {
   "cell_type": "code",
   "execution_count": 3,
   "id": "819cff5f",
   "metadata": {},
   "outputs": [],
   "source": [
    "from qiskit import *"
   ]
  },
  {
   "cell_type": "code",
   "execution_count": 4,
   "id": "a12175e8",
   "metadata": {},
   "outputs": [
    {
     "ename": "ImportError",
     "evalue": "cannot import name 'IBMQ' from 'qiskit' (C:\\Users\\Minnu\\anaconda3\\envs\\qiskit-env\\lib\\site-packages\\qiskit\\__init__.py)",
     "output_type": "error",
     "traceback": [
      "\u001b[1;31m---------------------------------------------------------------------------\u001b[0m",
      "\u001b[1;31mImportError\u001b[0m                               Traceback (most recent call last)",
      "Cell \u001b[1;32mIn[4], line 1\u001b[0m\n\u001b[1;32m----> 1\u001b[0m \u001b[38;5;28;01mfrom\u001b[39;00m \u001b[38;5;21;01mqiskit\u001b[39;00m \u001b[38;5;28;01mimport\u001b[39;00m IBMQ\n",
      "\u001b[1;31mImportError\u001b[0m: cannot import name 'IBMQ' from 'qiskit' (C:\\Users\\Minnu\\anaconda3\\envs\\qiskit-env\\lib\\site-packages\\qiskit\\__init__.py)"
     ]
    }
   ],
   "source": [
    "from qiskit import IBMQ"
   ]
  },
  {
   "cell_type": "code",
   "execution_count": null,
   "id": "92ff77f4",
   "metadata": {},
   "outputs": [],
   "source": [
    "IBMQ.save_account('fb335ef56b1d6d43894ad997ae54daf329de8050cda1e2e7a795f9bcae2da2e84ad903bd320d6e1354214371bcf9af7a80c1ccc1e0a546947469913805528928')"
   ]
  },
  {
   "cell_type": "code",
   "execution_count": null,
   "id": "4bd57326",
   "metadata": {},
   "outputs": [],
   "source": [
    "IBMQ.load_account()"
   ]
  },
  {
   "cell_type": "code",
   "execution_count": 5,
   "id": "b48cf0bd",
   "metadata": {},
   "outputs": [],
   "source": [
    "qr = QuantumRegister(2)"
   ]
  },
  {
   "cell_type": "code",
   "execution_count": 6,
   "id": "c998a133",
   "metadata": {},
   "outputs": [],
   "source": [
    "cr =ClassicalRegister(2)"
   ]
  },
  {
   "cell_type": "code",
   "execution_count": 7,
   "id": "859f9043",
   "metadata": {},
   "outputs": [],
   "source": [
    "circuit = QuantumCircuit(qr,cr)"
   ]
  },
  {
   "cell_type": "code",
   "execution_count": 9,
   "id": "e66b33b8",
   "metadata": {},
   "outputs": [],
   "source": [
    "%matplotlib inline"
   ]
  },
  {
   "cell_type": "markdown",
   "id": "b3dc52c3",
   "metadata": {},
   "source": [
    "## Kavya's First Circuit"
   ]
  },
  {
   "cell_type": "code",
   "execution_count": 10,
   "id": "7706c9a0",
   "metadata": {},
   "outputs": [
    {
     "data": {
      "text/plain": [
       "<qiskit.circuit.instructionset.InstructionSet at 0x22e0bf5d790>"
      ]
     },
     "execution_count": 10,
     "metadata": {},
     "output_type": "execute_result"
    }
   ],
   "source": [
    "circuit.h(qr[0])\n",
    "circuit.x(qr[0])"
   ]
  },
  {
   "cell_type": "code",
   "execution_count": 11,
   "id": "a0d7bf2c",
   "metadata": {},
   "outputs": [
    {
     "data": {
      "text/plain": [
       "<qiskit.circuit.instructionset.InstructionSet at 0x22e682abbe0>"
      ]
     },
     "execution_count": 11,
     "metadata": {},
     "output_type": "execute_result"
    }
   ],
   "source": [
    "circuit.measure(qr[0],cr[0])"
   ]
  },
  {
   "cell_type": "code",
   "execution_count": 16,
   "id": "e0f9b616",
   "metadata": {},
   "outputs": [
    {
     "ename": "MissingOptionalLibraryError",
     "evalue": "\"The 'pylatexenc' library is required to use 'MatplotlibDrawer'. You can install it with 'pip install pylatexenc'.\"",
     "output_type": "error",
     "traceback": [
      "\u001b[1;31m---------------------------------------------------------------------------\u001b[0m",
      "\u001b[1;31mMissingOptionalLibraryError\u001b[0m               Traceback (most recent call last)",
      "Cell \u001b[1;32mIn[16], line 1\u001b[0m\n\u001b[1;32m----> 1\u001b[0m \u001b[43mcircuit\u001b[49m\u001b[38;5;241;43m.\u001b[39;49m\u001b[43mdraw\u001b[49m\u001b[43m(\u001b[49m\u001b[43moutput\u001b[49m\u001b[38;5;241;43m=\u001b[39;49m\u001b[38;5;124;43m\"\u001b[39;49m\u001b[38;5;124;43mmpl\u001b[39;49m\u001b[38;5;124;43m\"\u001b[39;49m\u001b[43m)\u001b[49m\n",
      "File \u001b[1;32m~\\anaconda3\\envs\\qiskit-env\\lib\\site-packages\\qiskit\\circuit\\quantumcircuit.py:3263\u001b[0m, in \u001b[0;36mQuantumCircuit.draw\u001b[1;34m(self, output, scale, filename, style, interactive, plot_barriers, reverse_bits, justify, vertical_compression, idle_wires, with_layout, fold, ax, initial_state, cregbundle, wire_order, expr_len)\u001b[0m\n\u001b[0;32m   3260\u001b[0m \u001b[38;5;66;03m# pylint: disable=cyclic-import\u001b[39;00m\n\u001b[0;32m   3261\u001b[0m \u001b[38;5;28;01mfrom\u001b[39;00m \u001b[38;5;21;01mqiskit\u001b[39;00m\u001b[38;5;21;01m.\u001b[39;00m\u001b[38;5;21;01mvisualization\u001b[39;00m \u001b[38;5;28;01mimport\u001b[39;00m circuit_drawer\n\u001b[1;32m-> 3263\u001b[0m \u001b[38;5;28;01mreturn\u001b[39;00m \u001b[43mcircuit_drawer\u001b[49m\u001b[43m(\u001b[49m\n\u001b[0;32m   3264\u001b[0m \u001b[43m    \u001b[49m\u001b[38;5;28;43mself\u001b[39;49m\u001b[43m,\u001b[49m\n\u001b[0;32m   3265\u001b[0m \u001b[43m    \u001b[49m\u001b[43mscale\u001b[49m\u001b[38;5;241;43m=\u001b[39;49m\u001b[43mscale\u001b[49m\u001b[43m,\u001b[49m\n\u001b[0;32m   3266\u001b[0m \u001b[43m    \u001b[49m\u001b[43mfilename\u001b[49m\u001b[38;5;241;43m=\u001b[39;49m\u001b[43mfilename\u001b[49m\u001b[43m,\u001b[49m\n\u001b[0;32m   3267\u001b[0m \u001b[43m    \u001b[49m\u001b[43mstyle\u001b[49m\u001b[38;5;241;43m=\u001b[39;49m\u001b[43mstyle\u001b[49m\u001b[43m,\u001b[49m\n\u001b[0;32m   3268\u001b[0m \u001b[43m    \u001b[49m\u001b[43moutput\u001b[49m\u001b[38;5;241;43m=\u001b[39;49m\u001b[43moutput\u001b[49m\u001b[43m,\u001b[49m\n\u001b[0;32m   3269\u001b[0m \u001b[43m    \u001b[49m\u001b[43minteractive\u001b[49m\u001b[38;5;241;43m=\u001b[39;49m\u001b[43minteractive\u001b[49m\u001b[43m,\u001b[49m\n\u001b[0;32m   3270\u001b[0m \u001b[43m    \u001b[49m\u001b[43mplot_barriers\u001b[49m\u001b[38;5;241;43m=\u001b[39;49m\u001b[43mplot_barriers\u001b[49m\u001b[43m,\u001b[49m\n\u001b[0;32m   3271\u001b[0m \u001b[43m    \u001b[49m\u001b[43mreverse_bits\u001b[49m\u001b[38;5;241;43m=\u001b[39;49m\u001b[43mreverse_bits\u001b[49m\u001b[43m,\u001b[49m\n\u001b[0;32m   3272\u001b[0m \u001b[43m    \u001b[49m\u001b[43mjustify\u001b[49m\u001b[38;5;241;43m=\u001b[39;49m\u001b[43mjustify\u001b[49m\u001b[43m,\u001b[49m\n\u001b[0;32m   3273\u001b[0m \u001b[43m    \u001b[49m\u001b[43mvertical_compression\u001b[49m\u001b[38;5;241;43m=\u001b[39;49m\u001b[43mvertical_compression\u001b[49m\u001b[43m,\u001b[49m\n\u001b[0;32m   3274\u001b[0m \u001b[43m    \u001b[49m\u001b[43midle_wires\u001b[49m\u001b[38;5;241;43m=\u001b[39;49m\u001b[43midle_wires\u001b[49m\u001b[43m,\u001b[49m\n\u001b[0;32m   3275\u001b[0m \u001b[43m    \u001b[49m\u001b[43mwith_layout\u001b[49m\u001b[38;5;241;43m=\u001b[39;49m\u001b[43mwith_layout\u001b[49m\u001b[43m,\u001b[49m\n\u001b[0;32m   3276\u001b[0m \u001b[43m    \u001b[49m\u001b[43mfold\u001b[49m\u001b[38;5;241;43m=\u001b[39;49m\u001b[43mfold\u001b[49m\u001b[43m,\u001b[49m\n\u001b[0;32m   3277\u001b[0m \u001b[43m    \u001b[49m\u001b[43max\u001b[49m\u001b[38;5;241;43m=\u001b[39;49m\u001b[43max\u001b[49m\u001b[43m,\u001b[49m\n\u001b[0;32m   3278\u001b[0m \u001b[43m    \u001b[49m\u001b[43minitial_state\u001b[49m\u001b[38;5;241;43m=\u001b[39;49m\u001b[43minitial_state\u001b[49m\u001b[43m,\u001b[49m\n\u001b[0;32m   3279\u001b[0m \u001b[43m    \u001b[49m\u001b[43mcregbundle\u001b[49m\u001b[38;5;241;43m=\u001b[39;49m\u001b[43mcregbundle\u001b[49m\u001b[43m,\u001b[49m\n\u001b[0;32m   3280\u001b[0m \u001b[43m    \u001b[49m\u001b[43mwire_order\u001b[49m\u001b[38;5;241;43m=\u001b[39;49m\u001b[43mwire_order\u001b[49m\u001b[43m,\u001b[49m\n\u001b[0;32m   3281\u001b[0m \u001b[43m    \u001b[49m\u001b[43mexpr_len\u001b[49m\u001b[38;5;241;43m=\u001b[39;49m\u001b[43mexpr_len\u001b[49m\u001b[43m,\u001b[49m\n\u001b[0;32m   3282\u001b[0m \u001b[43m\u001b[49m\u001b[43m)\u001b[49m\n",
      "File \u001b[1;32m~\\anaconda3\\envs\\qiskit-env\\lib\\site-packages\\qiskit\\visualization\\circuit\\circuit_visualization.py:323\u001b[0m, in \u001b[0;36mcircuit_drawer\u001b[1;34m(circuit, scale, filename, style, output, interactive, plot_barriers, reverse_bits, justify, vertical_compression, idle_wires, with_layout, fold, ax, initial_state, cregbundle, wire_order, expr_len)\u001b[0m\n\u001b[0;32m    308\u001b[0m     \u001b[38;5;28;01mreturn\u001b[39;00m _generate_latex_source(\n\u001b[0;32m    309\u001b[0m         circuit,\n\u001b[0;32m    310\u001b[0m         filename\u001b[38;5;241m=\u001b[39mfilename,\n\u001b[1;32m   (...)\u001b[0m\n\u001b[0;32m    320\u001b[0m         wire_order\u001b[38;5;241m=\u001b[39mcomplete_wire_order,\n\u001b[0;32m    321\u001b[0m     )\n\u001b[0;32m    322\u001b[0m \u001b[38;5;28;01melif\u001b[39;00m output \u001b[38;5;241m==\u001b[39m \u001b[38;5;124m\"\u001b[39m\u001b[38;5;124mmpl\u001b[39m\u001b[38;5;124m\"\u001b[39m:\n\u001b[1;32m--> 323\u001b[0m     image \u001b[38;5;241m=\u001b[39m \u001b[43m_matplotlib_circuit_drawer\u001b[49m\u001b[43m(\u001b[49m\n\u001b[0;32m    324\u001b[0m \u001b[43m        \u001b[49m\u001b[43mcircuit\u001b[49m\u001b[43m,\u001b[49m\n\u001b[0;32m    325\u001b[0m \u001b[43m        \u001b[49m\u001b[43mscale\u001b[49m\u001b[38;5;241;43m=\u001b[39;49m\u001b[43mscale\u001b[49m\u001b[43m,\u001b[49m\n\u001b[0;32m    326\u001b[0m \u001b[43m        \u001b[49m\u001b[43mfilename\u001b[49m\u001b[38;5;241;43m=\u001b[39;49m\u001b[43mfilename\u001b[49m\u001b[43m,\u001b[49m\n\u001b[0;32m    327\u001b[0m \u001b[43m        \u001b[49m\u001b[43mstyle\u001b[49m\u001b[38;5;241;43m=\u001b[39;49m\u001b[43mstyle\u001b[49m\u001b[43m,\u001b[49m\n\u001b[0;32m    328\u001b[0m \u001b[43m        \u001b[49m\u001b[43mplot_barriers\u001b[49m\u001b[38;5;241;43m=\u001b[39;49m\u001b[43mplot_barriers\u001b[49m\u001b[43m,\u001b[49m\n\u001b[0;32m    329\u001b[0m \u001b[43m        \u001b[49m\u001b[43mreverse_bits\u001b[49m\u001b[38;5;241;43m=\u001b[39;49m\u001b[43mreverse_bits\u001b[49m\u001b[43m,\u001b[49m\n\u001b[0;32m    330\u001b[0m \u001b[43m        \u001b[49m\u001b[43mjustify\u001b[49m\u001b[38;5;241;43m=\u001b[39;49m\u001b[43mjustify\u001b[49m\u001b[43m,\u001b[49m\n\u001b[0;32m    331\u001b[0m \u001b[43m        \u001b[49m\u001b[43midle_wires\u001b[49m\u001b[38;5;241;43m=\u001b[39;49m\u001b[43midle_wires\u001b[49m\u001b[43m,\u001b[49m\n\u001b[0;32m    332\u001b[0m \u001b[43m        \u001b[49m\u001b[43mwith_layout\u001b[49m\u001b[38;5;241;43m=\u001b[39;49m\u001b[43mwith_layout\u001b[49m\u001b[43m,\u001b[49m\n\u001b[0;32m    333\u001b[0m \u001b[43m        \u001b[49m\u001b[43mfold\u001b[49m\u001b[38;5;241;43m=\u001b[39;49m\u001b[43mfold\u001b[49m\u001b[43m,\u001b[49m\n\u001b[0;32m    334\u001b[0m \u001b[43m        \u001b[49m\u001b[43max\u001b[49m\u001b[38;5;241;43m=\u001b[39;49m\u001b[43max\u001b[49m\u001b[43m,\u001b[49m\n\u001b[0;32m    335\u001b[0m \u001b[43m        \u001b[49m\u001b[43minitial_state\u001b[49m\u001b[38;5;241;43m=\u001b[39;49m\u001b[43minitial_state\u001b[49m\u001b[43m,\u001b[49m\n\u001b[0;32m    336\u001b[0m \u001b[43m        \u001b[49m\u001b[43mcregbundle\u001b[49m\u001b[38;5;241;43m=\u001b[39;49m\u001b[43mcregbundle\u001b[49m\u001b[43m,\u001b[49m\n\u001b[0;32m    337\u001b[0m \u001b[43m        \u001b[49m\u001b[43mwire_order\u001b[49m\u001b[38;5;241;43m=\u001b[39;49m\u001b[43mcomplete_wire_order\u001b[49m\u001b[43m,\u001b[49m\n\u001b[0;32m    338\u001b[0m \u001b[43m        \u001b[49m\u001b[43mexpr_len\u001b[49m\u001b[38;5;241;43m=\u001b[39;49m\u001b[43mexpr_len\u001b[49m\u001b[43m,\u001b[49m\n\u001b[0;32m    339\u001b[0m \u001b[43m    \u001b[49m\u001b[43m)\u001b[49m\n\u001b[0;32m    340\u001b[0m \u001b[38;5;28;01melse\u001b[39;00m:\n\u001b[0;32m    341\u001b[0m     \u001b[38;5;28;01mraise\u001b[39;00m VisualizationError(\n\u001b[0;32m    342\u001b[0m         \u001b[38;5;124m\"\u001b[39m\u001b[38;5;124mInvalid output type \u001b[39m\u001b[38;5;132;01m%s\u001b[39;00m\u001b[38;5;124m selected. The only valid choices \u001b[39m\u001b[38;5;124m\"\u001b[39m\n\u001b[0;32m    343\u001b[0m         \u001b[38;5;124m\"\u001b[39m\u001b[38;5;124mare text, latex, latex_source, and mpl\u001b[39m\u001b[38;5;124m\"\u001b[39m \u001b[38;5;241m%\u001b[39m output\n\u001b[0;32m    344\u001b[0m     )\n",
      "File \u001b[1;32m~\\anaconda3\\envs\\qiskit-env\\lib\\site-packages\\qiskit\\visualization\\circuit\\circuit_visualization.py:703\u001b[0m, in \u001b[0;36m_matplotlib_circuit_drawer\u001b[1;34m(circuit, scale, filename, style, plot_barriers, reverse_bits, justify, idle_wires, with_layout, fold, ax, initial_state, cregbundle, wire_order, expr_len)\u001b[0m\n\u001b[0;32m    700\u001b[0m \u001b[38;5;28;01mif\u001b[39;00m fold \u001b[38;5;129;01mis\u001b[39;00m \u001b[38;5;28;01mNone\u001b[39;00m:\n\u001b[0;32m    701\u001b[0m     fold \u001b[38;5;241m=\u001b[39m \u001b[38;5;241m25\u001b[39m\n\u001b[1;32m--> 703\u001b[0m qcd \u001b[38;5;241m=\u001b[39m \u001b[43m_matplotlib\u001b[49m\u001b[38;5;241;43m.\u001b[39;49m\u001b[43mMatplotlibDrawer\u001b[49m\u001b[43m(\u001b[49m\n\u001b[0;32m    704\u001b[0m \u001b[43m    \u001b[49m\u001b[43mqubits\u001b[49m\u001b[43m,\u001b[49m\n\u001b[0;32m    705\u001b[0m \u001b[43m    \u001b[49m\u001b[43mclbits\u001b[49m\u001b[43m,\u001b[49m\n\u001b[0;32m    706\u001b[0m \u001b[43m    \u001b[49m\u001b[43mnodes\u001b[49m\u001b[43m,\u001b[49m\n\u001b[0;32m    707\u001b[0m \u001b[43m    \u001b[49m\u001b[43mcircuit\u001b[49m\u001b[43m,\u001b[49m\n\u001b[0;32m    708\u001b[0m \u001b[43m    \u001b[49m\u001b[43mscale\u001b[49m\u001b[38;5;241;43m=\u001b[39;49m\u001b[43mscale\u001b[49m\u001b[43m,\u001b[49m\n\u001b[0;32m    709\u001b[0m \u001b[43m    \u001b[49m\u001b[43mstyle\u001b[49m\u001b[38;5;241;43m=\u001b[39;49m\u001b[43mstyle\u001b[49m\u001b[43m,\u001b[49m\n\u001b[0;32m    710\u001b[0m \u001b[43m    \u001b[49m\u001b[43mreverse_bits\u001b[49m\u001b[38;5;241;43m=\u001b[39;49m\u001b[43mreverse_bits\u001b[49m\u001b[43m,\u001b[49m\n\u001b[0;32m    711\u001b[0m \u001b[43m    \u001b[49m\u001b[43mplot_barriers\u001b[49m\u001b[38;5;241;43m=\u001b[39;49m\u001b[43mplot_barriers\u001b[49m\u001b[43m,\u001b[49m\n\u001b[0;32m    712\u001b[0m \u001b[43m    \u001b[49m\u001b[43mfold\u001b[49m\u001b[38;5;241;43m=\u001b[39;49m\u001b[43mfold\u001b[49m\u001b[43m,\u001b[49m\n\u001b[0;32m    713\u001b[0m \u001b[43m    \u001b[49m\u001b[43max\u001b[49m\u001b[38;5;241;43m=\u001b[39;49m\u001b[43max\u001b[49m\u001b[43m,\u001b[49m\n\u001b[0;32m    714\u001b[0m \u001b[43m    \u001b[49m\u001b[43minitial_state\u001b[49m\u001b[38;5;241;43m=\u001b[39;49m\u001b[43minitial_state\u001b[49m\u001b[43m,\u001b[49m\n\u001b[0;32m    715\u001b[0m \u001b[43m    \u001b[49m\u001b[43mcregbundle\u001b[49m\u001b[38;5;241;43m=\u001b[39;49m\u001b[43mcregbundle\u001b[49m\u001b[43m,\u001b[49m\n\u001b[0;32m    716\u001b[0m \u001b[43m    \u001b[49m\u001b[43mwith_layout\u001b[49m\u001b[38;5;241;43m=\u001b[39;49m\u001b[43mwith_layout\u001b[49m\u001b[43m,\u001b[49m\n\u001b[0;32m    717\u001b[0m \u001b[43m    \u001b[49m\u001b[43mexpr_len\u001b[49m\u001b[38;5;241;43m=\u001b[39;49m\u001b[43mexpr_len\u001b[49m\u001b[43m,\u001b[49m\n\u001b[0;32m    718\u001b[0m \u001b[43m\u001b[49m\u001b[43m)\u001b[49m\n\u001b[0;32m    719\u001b[0m \u001b[38;5;28;01mreturn\u001b[39;00m qcd\u001b[38;5;241m.\u001b[39mdraw(filename)\n",
      "File \u001b[1;32m~\\anaconda3\\envs\\qiskit-env\\lib\\site-packages\\qiskit\\utils\\classtools.py:111\u001b[0m, in \u001b[0;36m_WrappedMethod.__get__.<locals>.out\u001b[1;34m(*args, **kwargs)\u001b[0m\n\u001b[0;32m    108\u001b[0m \u001b[38;5;129m@functools\u001b[39m\u001b[38;5;241m.\u001b[39mwraps(method)\n\u001b[0;32m    109\u001b[0m \u001b[38;5;28;01mdef\u001b[39;00m \u001b[38;5;21mout\u001b[39m(\u001b[38;5;241m*\u001b[39margs, \u001b[38;5;241m*\u001b[39m\u001b[38;5;241m*\u001b[39mkwargs):\n\u001b[0;32m    110\u001b[0m     \u001b[38;5;28;01mfor\u001b[39;00m callback \u001b[38;5;129;01min\u001b[39;00m \u001b[38;5;28mself\u001b[39m\u001b[38;5;241m.\u001b[39m_before:\n\u001b[1;32m--> 111\u001b[0m         callback\u001b[38;5;241m.\u001b[39m\u001b[38;5;21m__get__\u001b[39m(obj, objtype)(\u001b[38;5;241m*\u001b[39margs, \u001b[38;5;241m*\u001b[39m\u001b[38;5;241m*\u001b[39mkwargs)\n\u001b[0;32m    112\u001b[0m     retval \u001b[38;5;241m=\u001b[39m method(\u001b[38;5;241m*\u001b[39margs, \u001b[38;5;241m*\u001b[39m\u001b[38;5;241m*\u001b[39mkwargs)\n\u001b[0;32m    113\u001b[0m     \u001b[38;5;28;01mfor\u001b[39;00m callback \u001b[38;5;129;01min\u001b[39;00m \u001b[38;5;28mself\u001b[39m\u001b[38;5;241m.\u001b[39m_after:\n",
      "File \u001b[1;32m~\\anaconda3\\envs\\qiskit-env\\lib\\site-packages\\qiskit\\utils\\lazy_tester.py:41\u001b[0m, in \u001b[0;36m_RequireNow.__call__\u001b[1;34m(self, *_args, **_kwargs)\u001b[0m\n\u001b[0;32m     40\u001b[0m \u001b[38;5;28;01mdef\u001b[39;00m \u001b[38;5;21m__call__\u001b[39m(\u001b[38;5;28mself\u001b[39m, \u001b[38;5;241m*\u001b[39m_args, \u001b[38;5;241m*\u001b[39m\u001b[38;5;241m*\u001b[39m_kwargs):\n\u001b[1;32m---> 41\u001b[0m     \u001b[38;5;28;43mself\u001b[39;49m\u001b[38;5;241;43m.\u001b[39;49m\u001b[43m_tester\u001b[49m\u001b[38;5;241;43m.\u001b[39;49m\u001b[43mrequire_now\u001b[49m\u001b[43m(\u001b[49m\u001b[38;5;28;43mself\u001b[39;49m\u001b[38;5;241;43m.\u001b[39;49m\u001b[43m_feature\u001b[49m\u001b[43m)\u001b[49m\n",
      "File \u001b[1;32m~\\anaconda3\\envs\\qiskit-env\\lib\\site-packages\\qiskit\\utils\\lazy_tester.py:221\u001b[0m, in \u001b[0;36mLazyDependencyManager.require_now\u001b[1;34m(self, feature)\u001b[0m\n\u001b[0;32m    219\u001b[0m \u001b[38;5;28;01mif\u001b[39;00m \u001b[38;5;28mself\u001b[39m:\n\u001b[0;32m    220\u001b[0m     \u001b[38;5;28;01mreturn\u001b[39;00m\n\u001b[1;32m--> 221\u001b[0m \u001b[38;5;28;01mraise\u001b[39;00m MissingOptionalLibraryError(\n\u001b[0;32m    222\u001b[0m     libname\u001b[38;5;241m=\u001b[39m\u001b[38;5;28mself\u001b[39m\u001b[38;5;241m.\u001b[39m_name, name\u001b[38;5;241m=\u001b[39mfeature, pip_install\u001b[38;5;241m=\u001b[39m\u001b[38;5;28mself\u001b[39m\u001b[38;5;241m.\u001b[39m_install, msg\u001b[38;5;241m=\u001b[39m\u001b[38;5;28mself\u001b[39m\u001b[38;5;241m.\u001b[39m_msg\n\u001b[0;32m    223\u001b[0m )\n",
      "\u001b[1;31mMissingOptionalLibraryError\u001b[0m: \"The 'pylatexenc' library is required to use 'MatplotlibDrawer'. You can install it with 'pip install pylatexenc'.\""
     ]
    }
   ],
   "source": [
    "circuit.draw(output=\"mpl\")"
   ]
  }
 ],
 "metadata": {
  "kernelspec": {
   "display_name": "Python 3 (ipykernel)",
   "language": "python",
   "name": "python3"
  },
  "language_info": {
   "codemirror_mode": {
    "name": "ipython",
    "version": 3
   },
   "file_extension": ".py",
   "mimetype": "text/x-python",
   "name": "python",
   "nbconvert_exporter": "python",
   "pygments_lexer": "ipython3",
   "version": "3.9.19"
  }
 },
 "nbformat": 4,
 "nbformat_minor": 5
}
